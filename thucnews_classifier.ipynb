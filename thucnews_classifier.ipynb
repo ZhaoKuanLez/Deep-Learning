{
 "cells": [
  {
   "cell_type": "code",
   "execution_count": null,
   "metadata": {
    "colab": {
     "base_uri": "https://localhost:8080/"
    },
    "executionInfo": {
     "elapsed": 12,
     "status": "ok",
     "timestamp": 1658952013878,
     "user": {
      "displayName": "Lez Kuan",
      "userId": "08878049657598906018"
     },
     "user_tz": -480
    },
    "id": "ROxU6wRIx96L",
    "outputId": "04b45b11-2bef-4963-9cfb-61463d802a08"
   },
   "outputs": [],
   "source": [
    "!pwd\n",
    "!ls ./Dataset"
   ]
  },
  {
   "cell_type": "markdown",
   "metadata": {
    "id": "4i4vXRz8x96Q"
   },
   "source": [
    "# Text Classification Based on Chinese Dataset THUCNEWs"
   ]
  },
  {
   "cell_type": "code",
   "execution_count": null,
   "metadata": {
    "colab": {
     "base_uri": "https://localhost:8080/"
    },
    "executionInfo": {
     "elapsed": 2106,
     "status": "ok",
     "timestamp": 1658952015979,
     "user": {
      "displayName": "Lez Kuan",
      "userId": "08878049657598906018"
     },
     "user_tz": -480
    },
    "id": "p8uRs29Ex96Z",
    "outputId": "3c6d605b-ec7f-4be6-a2c7-a2270d1093b9"
   },
   "outputs": [],
   "source": [
    "import tensorflow as tf\n",
    "print(f'Tensorflow Version: {tf.__version__}')\n",
    "gpus = tf.config.list_physical_devices('GPU')\n",
    "print(f'GPUs: {gpus}')"
   ]
  },
  {
   "cell_type": "code",
   "execution_count": null,
   "metadata": {
    "executionInfo": {
     "elapsed": 8,
     "status": "ok",
     "timestamp": 1658952015979,
     "user": {
      "displayName": "Lez Kuan",
      "userId": "08878049657598906018"
     },
     "user_tz": -480
    },
    "id": "r1el4GGIx96b"
   },
   "outputs": [],
   "source": [
    "from typing import List, Dict"
   ]
  },
  {
   "cell_type": "markdown",
   "metadata": {
    "id": "oBVUfKyVx96q"
   },
   "source": [
    "## Read Dataset\n",
    "\n",
    "I used a subset of this dataset, processed it, and saved it as three files: cnews.test.txt  cnews.train.txt cnews.val.txt   cnews.vocab.txt."
   ]
  },
  {
   "cell_type": "markdown",
   "metadata": {
    "id": "dHmkFTALO3af"
   },
   "source": [
    "### Path Definition"
   ]
  },
  {
   "cell_type": "code",
   "execution_count": null,
   "metadata": {
    "executionInfo": {
     "elapsed": 10,
     "status": "ok",
     "timestamp": 1658952015982,
     "user": {
      "displayName": "Lez Kuan",
      "userId": "08878049657598906018"
     },
     "user_tz": -480
    },
    "id": "xH8RuRCbx96r"
   },
   "outputs": [],
   "source": [
    "import os\n",
    "\n",
    "dataset_path = './DataSet'\n",
    "train_path = os.path.join(dataset_path, 'cnews.train.txt')\n",
    "test_path  = os.path.join(dataset_path, 'cnews.test.txt')\n",
    "val_path   = os.path.join(dataset_path, 'cnews.val.txt')"
   ]
  },
  {
   "cell_type": "code",
   "execution_count": null,
   "metadata": {
    "executionInfo": {
     "elapsed": 9,
     "status": "ok",
     "timestamp": 1658952015982,
     "user": {
      "displayName": "Lez Kuan",
      "userId": "08878049657598906018"
     },
     "user_tz": -480
    },
    "id": "dTI30h7xx96s"
   },
   "outputs": [],
   "source": [
    "stopwords_path  = './ChineseStopWords.txt'"
   ]
  },
  {
   "cell_type": "markdown",
   "metadata": {
    "id": "ORaIPsr6Otq7"
   },
   "source": [
    "### Read parts files of da"
   ]
  },
  {
   "cell_type": "code",
   "execution_count": null,
   "metadata": {
    "executionInfo": {
     "elapsed": 10,
     "status": "ok",
     "timestamp": 1658952015983,
     "user": {
      "displayName": "Lez Kuan",
      "userId": "08878049657598906018"
     },
     "user_tz": -480
    },
    "id": "tMx3OI07x96u"
   },
   "outputs": [],
   "source": [
    "def read_file(filename):\n",
    "    contents, labels = [], []\n",
    "    with open(filename, 'r') as f:\n",
    "        for line in f:\n",
    "            label, content = line.strip().split('\\t')\n",
    "            if content:\n",
    "                contents.append(content)\n",
    "                labels.append(label)\n",
    "    return contents, labels"
   ]
  },
  {
   "cell_type": "code",
   "execution_count": null,
   "metadata": {
    "colab": {
     "base_uri": "https://localhost:8080/"
    },
    "executionInfo": {
     "elapsed": 5407,
     "status": "ok",
     "timestamp": 1658952021381,
     "user": {
      "displayName": "Lez Kuan",
      "userId": "08878049657598906018"
     },
     "user_tz": -480
    },
    "id": "HhAeLcYrx96v",
    "outputId": "6b8a8b49-b737-48cb-f6ed-39cc48151e6a"
   },
   "outputs": [],
   "source": [
    "import time\n",
    "from collections import Counter\n",
    "\n",
    "t = time.time()\n",
    "train_contents, train_labels = read_file(train_path)\n",
    "test_contents, test_labels = read_file(test_path)\n",
    "val_contents, val_labels = read_file(val_path)\n",
    "print(f'Dataset: Trainset({len(train_contents)})、Testset({len(test_contents)})、'\n",
    "      f'Validationset({len(val_contents)})')\n",
    "print(f'Trainset     : {Counter(train_labels)}')\n",
    "print(f'Testset      : {Counter(test_labels)}')\n",
    "print(f'Validationset: {Counter(val_labels)}')\n",
    "print(f'\\nCost time: {time.time() - t: .6f}s')"
   ]
  },
  {
   "cell_type": "markdown",
   "metadata": {
    "id": "k-CfVICXx96w"
   },
   "source": [
    "## preprocessing data"
   ]
  },
  {
   "cell_type": "code",
   "execution_count": null,
   "metadata": {
    "executionInfo": {
     "elapsed": 29,
     "status": "ok",
     "timestamp": 1658952021382,
     "user": {
      "displayName": "Lez Kuan",
      "userId": "08878049657598906018"
     },
     "user_tz": -480
    },
    "id": "DgWT-xjwv_WA"
   },
   "outputs": [],
   "source": [
    "VOCAB_SIZE = 5_000\n",
    "SENTENCE_LEN = 512\n",
    "BATCH = 128"
   ]
  },
  {
   "cell_type": "markdown",
   "metadata": {
    "id": "iu1wTbcwO8Ix"
   },
   "source": [
    "### remove special characters"
   ]
  },
  {
   "cell_type": "code",
   "execution_count": null,
   "metadata": {
    "colab": {
     "base_uri": "https://localhost:8080/"
    },
    "executionInfo": {
     "elapsed": 1079,
     "status": "ok",
     "timestamp": 1658952022434,
     "user": {
      "displayName": "Lez Kuan",
      "userId": "08878049657598906018"
     },
     "user_tz": -480
    },
    "id": "MrS__CVmx96w",
    "outputId": "d1693f54-ebeb-4d92-d269-d7d8f5021209"
   },
   "outputs": [],
   "source": [
    "import re\n",
    "\n",
    "def clear_character(sentence):\n",
    "    pattern1 = '\\[.*?\\]' \n",
    "    pattern2 = re.compile('[^\\u4e00-\\u9fa5^a-z^A-Z^0-9]')\n",
    "    line1 = re.sub(pattern1, '', sentence)\n",
    "    line2 = re.sub(pattern2, '', line1)\n",
    "    new_sentence = ''.join(line2.split())\n",
    "    return new_sentence\n",
    "\n",
    "t = time.time()\n",
    "train_text = list(map(lambda s: clear_character(s), train_contents))\n",
    "test_text  = list(map(lambda s: clear_character(s), test_contents))\n",
    "val_text   = list(map(lambda s: clear_character(s), val_contents))\n",
    "print(f'Cost time: {time.time() - t: .2f}s')"
   ]
  },
  {
   "cell_type": "markdown",
   "metadata": {
    "id": "bw507Q3NPElW"
   },
   "source": [
    "### token"
   ]
  },
  {
   "cell_type": "code",
   "execution_count": null,
   "metadata": {
    "colab": {
     "base_uri": "https://localhost:8080/"
    },
    "executionInfo": {
     "elapsed": 56,
     "status": "ok",
     "timestamp": 1658952022435,
     "user": {
      "displayName": "Lez Kuan",
      "userId": "08878049657598906018"
     },
     "user_tz": -480
    },
    "id": "I4ANHk04IiU-",
    "outputId": "6374ad20-b429-48a0-d7bf-f106288e1a5b"
   },
   "outputs": [],
   "source": [
    "token_path = './token_data'\n",
    "if not os.path.exists(token_path):\n",
    "    os.mkdir(token_path)\n",
    "\n",
    "train_token_file = os.path.join(token_path, 'train_token.pkl')\n",
    "test_token_file  = os.path.join(token_path, 'test_token.pkl')\n",
    "val_token_file   = os.path.join(token_path, 'val_token.pkl')\n",
    "\n",
    "train_token_file, test_token_file, val_token_file"
   ]
  },
  {
   "cell_type": "code",
   "execution_count": null,
   "metadata": {
    "colab": {
     "base_uri": "https://localhost:8080/"
    },
    "executionInfo": {
     "elapsed": 12626,
     "status": "ok",
     "timestamp": 1658952035009,
     "user": {
      "displayName": "Lez Kuan",
      "userId": "08878049657598906018"
     },
     "user_tz": -480
    },
    "id": "THswCGWTx96x",
    "outputId": "9f043be7-392d-451c-cde7-042a9a8683dd"
   },
   "outputs": [],
   "source": [
    "import jieba, pickle\n",
    "\n",
    "with tf.device(\"/gpu:0\"):\n",
    "    t = time.time()\n",
    "    if not os.path.exists(train_token_file):\n",
    "        print('- Trainset token...', end='')\n",
    "        train_seg_text = list(map(lambda s: jieba.lcut(s), train_text))\n",
    "        pickle.dump(train_seg_text, open(train_token_file, 'wb'))\n",
    "        print('Over!')\n",
    "    else:\n",
    "        train_seg_text = pickle.load(open(train_token_file, 'rb'))\n",
    "        print(f'The token file for the training set already exists, loaded!')\n",
    "\n",
    "    if not os.path.exists(test_token_file):\n",
    "        print('- Testset token...', end='')\n",
    "        test_seg_text  = list(map(lambda s: jieba.lcut(s), test_text))\n",
    "        pickle.dump(test_seg_text, open(test_token_file, 'wb'))\n",
    "        print('Over!')\n",
    "    else:\n",
    "        test_seg_text = pickle.load(open(test_token_file, 'rb'))\n",
    "        print(f'The token file for the test set already exists, loaded!')\n",
    "\n",
    "    if not os.path.exists(val_token_file):\n",
    "        print('- Validationset token...', end='')\n",
    "        val_seg_text   = list(map(lambda s: jieba.lcut(s), val_text))\n",
    "        pickle.dump(val_seg_text, open(val_token_file, 'wb'))\n",
    "        print('Over!')\n",
    "    else:\n",
    "        val_seg_text = pickle.load(open(val_token_file, 'rb'))\n",
    "        print(f'The token file for the validation set already exists, loaded!')\n",
    "\n",
    "    print(f'\\nCost time: {time.time() - t: .2f}s')"
   ]
  },
  {
   "cell_type": "markdown",
   "metadata": {
    "id": "8hQb82AEPJpN"
   },
   "source": [
    "### Remove Stopwords"
   ]
  },
  {
   "cell_type": "code",
   "execution_count": null,
   "metadata": {
    "colab": {
     "base_uri": "https://localhost:8080/"
    },
    "executionInfo": {
     "elapsed": 4637,
     "status": "ok",
     "timestamp": 1658952039633,
     "user": {
      "displayName": "Lez Kuan",
      "userId": "08878049657598906018"
     },
     "user_tz": -480
    },
    "id": "SWIMweMBx96y",
    "outputId": "e8142d9f-d676-4c0b-fff2-1442eb7f0f94"
   },
   "outputs": [],
   "source": [
    "def get_stop_words():\n",
    "    file = open(stopwords_path, 'rb').read().decode('utf-8').split('\\r\\n')\n",
    "    return set(file)\n",
    "\n",
    "stopwords = get_stop_words()\n",
    "\n",
    "\n",
    "def drop_stopwords(line, stopwords):\n",
    "    line_clean = []\n",
    "    for word in line:\n",
    "        if word in stopwords:\n",
    "            continue\n",
    "        line_clean.append(word)\n",
    "    return line_clean\n",
    "\n",
    "t = time.time()\n",
    "train_sentence_words = list(map(lambda s: drop_stopwords(s, stopwords), train_seg_text))\n",
    "test_sentence_words  = list(map(lambda s: drop_stopwords(s, stopwords), test_seg_text))\n",
    "val_sentence_words   = list(map(lambda s: drop_stopwords(s, stopwords), val_seg_text))\n",
    "print(f'\\nCost time: {time.time() - t: .2f}s')"
   ]
  },
  {
   "cell_type": "markdown",
   "metadata": {
    "id": "zk-_0aV1PNPp"
   },
   "source": [
    "### make vocabulary"
   ]
  },
  {
   "cell_type": "markdown",
   "metadata": {
    "id": "JuznmMYBPSvT"
   },
   "source": [
    "#### Flatten the dataset"
   ]
  },
  {
   "cell_type": "code",
   "execution_count": null,
   "metadata": {
    "colab": {
     "base_uri": "https://localhost:8080/",
     "height": 256,
     "referenced_widgets": [
      "fa835651f57944bdb80fd9982c5c4a4c",
      "d3f9d930fecd4610b103b71fd55b37d5",
      "22a7269308924bd68455bdf4eb234489",
      "1e2c062a45f948b49aede5c9c9690ed0",
      "5565f8975be347baad260928e03ed3d9",
      "6218c10230ce4e42be7bd83169775212",
      "b7b46dab9f0b481592d0dbfeb182d05e",
      "4f06163418b14cec90edef8f9b080613",
      "3cb7f4dded0d41428e50d6b93afa2d01",
      "a008d5cb69f74dec969d6cd2a4539af9",
      "439a817d00e0407695253db53dec23f3",
      "d6825561931a41df84ae1a892f1d0c58",
      "0dac40511eae4365b98ba3c3b5242693",
      "92a77556a9214ba48ed39ee9b12b3dad",
      "95899c30bac942bcb70fc0f4e19bce17",
      "f33111d8ee384da5b2623a0c10381e71",
      "e105de1a8a2d4791a484cd2859bde06e",
      "7781cb005a00483f8a7fcc966f83e2f2",
      "1de04f20114b49678ba91fb5d907e081",
      "2a9221dff64e4fa5ba4e5e9e85e26a8a",
      "c75799bbd30a4690b75414b133e34edb",
      "704689165d8c4ba986b306538e078349",
      "40f8d0a0470d49bdb4f2785dc124d443",
      "f90979b8be4a43779430e5cea7288727",
      "5e99c459fc354755b9f4ad0f8481e267",
      "bc9121efeef549f29ebb969cd9a0ee50",
      "b85d11c2ef524f2ab64165317eafc894",
      "67a2a4a3150d45fcb43cdcb84b069037",
      "ebe05613102d453391dcdf79c8b9627f",
      "c79b9c850da94009943882b8a9f273ca",
      "afc02a36f2a94b22991067fcd5172cf9",
      "c27b2495a0cf4cc8b93d4ac3bafdb75d",
      "c853a48b5afb4a5ab53006810b8e701f"
     ]
    },
    "executionInfo": {
     "elapsed": 2228,
     "status": "ok",
     "timestamp": 1658952041843,
     "user": {
      "displayName": "Lez Kuan",
      "userId": "08878049657598906018"
     },
     "user_tz": -480
    },
    "id": "IopQVdEqNLZ5",
    "outputId": "83dcd31f-6b8e-40ad-cc30-56e968786dc7"
   },
   "outputs": [],
   "source": [
    "from tqdm.notebook import tqdm\n",
    "\n",
    "def flatten(dataset: List[list]) -> List[str]:\n",
    "    content = []\n",
    "    for sentence_words in tqdm(dataset):\n",
    "        content.extend(sentence_words)\n",
    "    return content\n",
    "\n",
    "\n",
    "t = time.time()\n",
    "print(f'Flatten train set...', end='')\n",
    "train_words = flatten(train_sentence_words)\n",
    "print(f'Over! Cost: {time.time() - t:.2f}s。')\n",
    "\n",
    "# t1 = time.time()\n",
    "# print(f'Flatten test set...', end='')\n",
    "# test_words = flatten(test_sentence_words)\n",
    "# print(f'Over! Cost: {time.time() - t:.2f}s。')\n",
    "\n",
    "# t2 = time.time()\n",
    "# print(f'Flatten validation set...', end='')\n",
    "# val_words = flatten(val_sentence_words)\n",
    "# print(f'Over! Cost: {time.time() - t:.2f}s。')\n",
    "\n",
    "# dataset_words = train_words + test_words + val_words\n",
    "dataset_words = train_words\n",
    "print(f'\\nCost time: {time.time() - t: .2f}s')"
   ]
  },
  {
   "cell_type": "markdown",
   "metadata": {
    "id": "-i47SfliPZjr"
   },
   "source": [
    "#### Make vocab"
   ]
  },
  {
   "cell_type": "code",
   "execution_count": null,
   "metadata": {
    "colab": {
     "base_uri": "https://localhost:8080/"
    },
    "executionInfo": {
     "elapsed": 4670,
     "status": "ok",
     "timestamp": 1658952046507,
     "user": {
      "displayName": "Lez Kuan",
      "userId": "08878049657598906018"
     },
     "user_tz": -480
    },
    "id": "Qj7o8Hjax96z",
    "outputId": "ab599965-6888-45a2-8a14-97da46c57ea4"
   },
   "outputs": [],
   "source": [
    "def get_vocabulary(dataset, vocab_size=5000) -> Dict:\n",
    "    vocab_keys = ['<PAD>', '<UNK>']\n",
    "    part_vocabs = []\n",
    "    counter = Counter(dataset)\n",
    "    for item in counter.most_common(vocab_size - 2):\n",
    "        part_vocabs.append(item[0])\n",
    "    vocab_key = vocab_keys + part_vocabs\n",
    "    vocab = {}\n",
    "    for value, key in enumerate(vocab_key):\n",
    "        vocab.update({key: value})\n",
    "    return vocab\n",
    "\n",
    "vocab_path = './vocabulary.pkl'\n",
    "if not os.path.exists(vocab_path):\n",
    "    vocabulary = get_vocabulary(dataset_words, VOCAB_SIZE)\n",
    "    pickle.dump(vocabulary, open(vocab_path, 'wb'))\n",
    "else:\n",
    "    vocabulary = pickle.load(open(vocab_path, 'rb'))\n",
    "    print(f'Vocab already exists, loaded!')"
   ]
  },
  {
   "cell_type": "markdown",
   "metadata": {
    "id": "VHiREU9gDMyB"
   },
   "source": [
    "### Text length alignment"
   ]
  },
  {
   "cell_type": "code",
   "execution_count": null,
   "metadata": {
    "colab": {
     "base_uri": "https://localhost:8080/"
    },
    "executionInfo": {
     "elapsed": 19,
     "status": "ok",
     "timestamp": 1658952046507,
     "user": {
      "displayName": "Lez Kuan",
      "userId": "08878049657598906018"
     },
     "user_tz": -480
    },
    "id": "qTWihjDFIiVC",
    "outputId": "3e0a09af-6051-4c47-a58b-2ec36b2ea69a"
   },
   "outputs": [],
   "source": [
    "vocabulary['<UNK>'], vocabulary['<PAD>']"
   ]
  },
  {
   "cell_type": "code",
   "execution_count": null,
   "metadata": {
    "colab": {
     "base_uri": "https://localhost:8080/"
    },
    "executionInfo": {
     "elapsed": 1115,
     "status": "ok",
     "timestamp": 1658952047607,
     "user": {
      "displayName": "Lez Kuan",
      "userId": "08878049657598906018"
     },
     "user_tz": -480
    },
    "id": "Fk0n9TEg_Aws",
    "outputId": "e085a592-2f6a-45af-c019-9f1ad6c3b077"
   },
   "outputs": [],
   "source": [
    "def cut_sentence(dataset: List[list], max_length) -> List[list]:\n",
    "    cutted_dataset = []\n",
    "    for sentence in dataset:\n",
    "        if len(sentence) >= max_length:\n",
    "            cutted_sentence = sentence[:max_length]\n",
    "        else:\n",
    "            cutted_sentence = sentence\n",
    "        cutted_dataset.append(cutted_sentence)\n",
    "    return cutted_dataset\n",
    "\n",
    "\n",
    "t = time.time()\n",
    "train_dataset_cutted = cut_sentence(train_sentence_words, SENTENCE_LEN)\n",
    "print(f'Trainset Align: {time.time() - t:.6f}s')\n",
    "\n",
    "t1 = time.time()\n",
    "test_dataset_cutted = cut_sentence(test_sentence_words, SENTENCE_LEN)\n",
    "print(f'Testset Align: {time.time() - t1:.6f}s')\n",
    "\n",
    "t2 = time.time()\n",
    "val_dataset_cutted = cut_sentence(val_sentence_words, SENTENCE_LEN)\n",
    "print(f'validationset Align: {time.time() - t2:.6f}s')\n",
    "\n",
    "print(f'\\nCost time: {time.time() - t: .6f}s')"
   ]
  },
  {
   "cell_type": "markdown",
   "metadata": {
    "id": "Sm_t_5NtG3F2"
   },
   "source": [
    "### word2Index"
   ]
  },
  {
   "cell_type": "code",
   "execution_count": null,
   "metadata": {
    "colab": {
     "base_uri": "https://localhost:8080/"
    },
    "executionInfo": {
     "elapsed": 7523,
     "status": "ok",
     "timestamp": 1658952055126,
     "user": {
      "displayName": "Lez Kuan",
      "userId": "08878049657598906018"
     },
     "user_tz": -480
    },
    "id": "iEQMKLzHGNsE",
    "outputId": "56433d23-581f-4bd5-ad4f-83e3420e710f"
   },
   "outputs": [],
   "source": [
    "def preprocess_dataset(dataset: List[list], vocab: Dict, \n",
    "                       max_length: int = 512) -> List[list]:\n",
    "    # 将一句话中的词替换为字典中对应的索引\n",
    "    def replace_by_index(sentence):\n",
    "        index_sentence = []\n",
    "        for word in sentence:\n",
    "            if word in vocab.keys():\n",
    "                index_sentence.append(vocab[word])\n",
    "            else:\n",
    "                index_sentence.append(vocab['<UNK>'])\n",
    "        return index_sentence\n",
    "\n",
    "    index_dataset = []\n",
    "    for sentence in dataset:\n",
    "        if len(sentence) >= max_length:\n",
    "            index_dataset.append(replace_by_index(sentence))\n",
    "        else:\n",
    "            index_dataset.append(replace_by_index(sentence) + \\\n",
    "                                 [vocab['<PAD>']] * (max_length - len(sentence)))\n",
    "\n",
    "    return index_dataset\n",
    "\n",
    "t = time.time()\n",
    "train_index = preprocess_dataset(train_dataset_cutted, vocab=vocabulary, \n",
    "                                 max_length=SENTENCE_LEN)\n",
    "print(f'Trainset index: {time.time() - t:.2f}s')\n",
    "\n",
    "t1 = time.time()\n",
    "test_index  = preprocess_dataset(test_dataset_cutted, vocab=vocabulary, \n",
    "                                 max_length=SENTENCE_LEN)\n",
    "print(f'Testset index: {time.time() - t1:.2f}s')\n",
    "\n",
    "t2 = time.time()\n",
    "val_index   = preprocess_dataset(val_dataset_cutted, vocab=vocabulary, \n",
    "                                 max_length=SENTENCE_LEN)\n",
    "print(f'validationset index: {time.time() - t2:.2f}s')\n",
    "\n",
    "print(f'\\nCost time: {time.time() - t: .2f}s')"
   ]
  },
  {
   "cell_type": "code",
   "execution_count": null,
   "metadata": {
    "colab": {
     "base_uri": "https://localhost:8080/"
    },
    "executionInfo": {
     "elapsed": 14,
     "status": "ok",
     "timestamp": 1658952055892,
     "user": {
      "displayName": "Lez Kuan",
      "userId": "08878049657598906018"
     },
     "user_tz": -480
    },
    "id": "pgY_h7i3S07F",
    "outputId": "d5dfd606-965a-485a-bc50-00644e841a14"
   },
   "outputs": [],
   "source": [
    "word_index = 222\n",
    "key_ = filter(lambda x: word_index==x[1], vocabulary.items())\n",
    "for (key,value) in key_:\n",
    "  print('%s: %s' % (key,value))"
   ]
  },
  {
   "cell_type": "markdown",
   "metadata": {
    "id": "H8mDzt6oIiVE"
   },
   "source": [
    "## label map"
   ]
  },
  {
   "cell_type": "code",
   "execution_count": null,
   "metadata": {
    "colab": {
     "base_uri": "https://localhost:8080/",
     "height": 113,
     "referenced_widgets": [
      "ffe0336f9edc42ce8060a10ca1716e73",
      "9e92aabe14484229bd5955a0b97f22ba",
      "f54ea6fb819748e9a9b9ccb82959c09b",
      "7452ec72981041efa26df340beb722fb",
      "bd883f2548a945149d0d5ad3dea7e2b0",
      "32d794267f644768ab351d4eca81922c",
      "58fbf66014714af0a1b1c558666b69b0",
      "9b797752087746fda6047f6eb4f5354c",
      "6ef4b6589680422a9a698d2711029f38",
      "8e125f1a840f4d419e9020966e4effcb",
      "dfc8af31718a4148bd8cf6effb6869ac",
      "85b07c09f80941009474b4df8d7e6d27",
      "5f353c9eb33949d8b0caad655378b9aa",
      "0e57440fbeff41718045090cddd9534f",
      "dbaff71d913f4f06836784df06605c99",
      "c57cdfaa85724078aa36f61dee888c17",
      "88271637e47c45d9a3b0ede869f520c5",
      "30427ccbd62a4ff6907b4c37a1fc933a",
      "8b4aed1d963b404197390224b80b49a3",
      "5d13613333a0449bb416e211ac95b269",
      "1f4d7432aa054ca895143e56fcb40c73",
      "4701918269384dd5892b945f0ee39011",
      "c423c632961a452f8e8d01576ace00c7",
      "98adb75293ed40fd8e141529e00f4143",
      "573c857c81d0418796c4d987b2f87f8e",
      "a306d3c66e3f4f688705434e96a34819",
      "ef0f34def50644fa9e393f1dc77feec8",
      "0996dfcdcb18483298ba39180fb7669f",
      "95d3c9d2cdc842db9a2425c5030342b4",
      "c3a70f03952a4c52bc2d7b734447adce",
      "edd564aec15d43319e0d78ebce4cf165",
      "50aeba9181d0413295d0d447891a3c39",
      "87434c11e470477fbef900d24f326d7c"
     ]
    },
    "executionInfo": {
     "elapsed": 12,
     "status": "ok",
     "timestamp": 1658952055893,
     "user": {
      "displayName": "Lez Kuan",
      "userId": "08878049657598906018"
     },
     "user_tz": -480
    },
    "id": "XzckylVQIiVE",
    "outputId": "d09dd09d-cc4a-4f4c-9f7b-2289101caee6"
   },
   "outputs": [],
   "source": [
    "text_labels = list(dict(Counter(train_labels)).keys())\n",
    "text_index  = list(range(len(text_labels)))\n",
    "labels_map = dict(zip(text_labels, text_index))\n",
    "\n",
    "def label2index(dataset_labels: List, labels_map: Dict) -> List:\n",
    "    return [labels_map.get(label) for label in tqdm(dataset_labels)]\n",
    "\n",
    "train_label_index = label2index(train_labels, labels_map)\n",
    "test_label_index = label2index(test_labels, labels_map)\n",
    "val_label_index = label2index(val_labels, labels_map)"
   ]
  },
  {
   "cell_type": "code",
   "execution_count": null,
   "metadata": {
    "executionInfo": {
     "elapsed": 7,
     "status": "ok",
     "timestamp": 1658952055894,
     "user": {
      "displayName": "Lez Kuan",
      "userId": "08878049657598906018"
     },
     "user_tz": -480
    },
    "id": "4dn7GQnrIiVF"
   },
   "outputs": [],
   "source": [
    "train_labels_onehot = tf.one_hot(train_label_index, depth=10)\n",
    "test_labels_onehot = tf.one_hot(test_label_index, depth=10)\n",
    "val_labels_onehot = tf.one_hot(val_label_index, depth=10)"
   ]
  },
  {
   "cell_type": "markdown",
   "metadata": {
    "id": "wf2kJET0IiVF"
   },
   "source": [
    "## packaging"
   ]
  },
  {
   "cell_type": "code",
   "execution_count": null,
   "metadata": {
    "colab": {
     "base_uri": "https://localhost:8080/"
    },
    "executionInfo": {
     "elapsed": 412,
     "status": "ok",
     "timestamp": 1658952058048,
     "user": {
      "displayName": "Lez Kuan",
      "userId": "08878049657598906018"
     },
     "user_tz": -480
    },
    "id": "uWc1BrVnG9z3",
    "outputId": "9200125c-5ed4-4095-a280-21a9a28994b9"
   },
   "outputs": [],
   "source": [
    "import numpy as np\n",
    "\n",
    "np.array(train_index).shape, np.array(train_labels_onehot).shape"
   ]
  },
  {
   "cell_type": "code",
   "execution_count": null,
   "metadata": {
    "colab": {
     "base_uri": "https://localhost:8080/"
    },
    "executionInfo": {
     "elapsed": 74154,
     "status": "ok",
     "timestamp": 1658952132197,
     "user": {
      "displayName": "Lez Kuan",
      "userId": "08878049657598906018"
     },
     "user_tz": -480
    },
    "id": "gtr_55lKFlcI",
    "outputId": "e922f647-5253-4480-bf26-db3a184fa3de"
   },
   "outputs": [],
   "source": [
    "with tf.device(\"/gpu:0\"):\n",
    "    t_db = time.time()\n",
    "    train_db = (tf.data.Dataset\n",
    "                .from_tensor_slices((train_index, train_labels_onehot))\n",
    "                .shuffle(len(train_index)).batch(BATCH, drop_remainder=True))\n",
    "    test_db  = (tf.data.Dataset\n",
    "                .from_tensor_slices((test_index, test_labels_onehot))\n",
    "                .shuffle(len(test_index)).batch(BATCH, drop_remainder=True))\n",
    "    val_db   = (tf.data.Dataset\n",
    "                .from_tensor_slices((val_index, val_labels_onehot))\n",
    "                .shuffle(len(val_index)).batch(BATCH, drop_remainder=True))\n",
    "    print(f'\\nCost time: {time.time() - t_db: .2f}s')  # CPU: 90s. GPU: 73s"
   ]
  },
  {
   "cell_type": "code",
   "execution_count": null,
   "metadata": {
    "colab": {
     "base_uri": "https://localhost:8080/"
    },
    "executionInfo": {
     "elapsed": 30,
     "status": "ok",
     "timestamp": 1658952132198,
     "user": {
      "displayName": "Lez Kuan",
      "userId": "08878049657598906018"
     },
     "user_tz": -480
    },
    "id": "v5LO0s_4IiVG",
    "outputId": "ed147340-52c6-46c6-9bfa-8fc4f9e48fb6"
   },
   "outputs": [],
   "source": [
    "train_db.batch"
   ]
  },
  {
   "cell_type": "markdown",
   "metadata": {
    "id": "_ocOk1hLIiVG"
   },
   "source": [
    "# Model & Learning"
   ]
  },
  {
   "cell_type": "code",
   "execution_count": null,
   "metadata": {
    "executionInfo": {
     "elapsed": 26,
     "status": "ok",
     "timestamp": 1658952132199,
     "user": {
      "displayName": "Lez Kuan",
      "userId": "08878049657598906018"
     },
     "user_tz": -480
    },
    "id": "FXq9NmkwIiVG"
   },
   "outputs": [],
   "source": [
    "from keras  import optimizers, losses\n",
    "from keras.models import Sequential\n",
    "from keras.layers import Embedding, Dense, Flatten, SimpleRNN, LSTM, Bidirectional"
   ]
  },
  {
   "cell_type": "markdown",
   "metadata": {
    "id": "xL9rA2GuA197"
   },
   "source": [
    "## Super parameters"
   ]
  },
  {
   "cell_type": "code",
   "execution_count": null,
   "metadata": {
    "executionInfo": {
     "elapsed": 26,
     "status": "ok",
     "timestamp": 1658952132199,
     "user": {
      "displayName": "Lez Kuan",
      "userId": "08878049657598906018"
     },
     "user_tz": -480
    },
    "id": "9sgr0-kZvauK"
   },
   "outputs": [],
   "source": [
    "EPOCHS = 10\n",
    "LR = 1e-3\n",
    "STATE_DIM = 32\n",
    "CLASSES_NUM = 10"
   ]
  },
  {
   "cell_type": "markdown",
   "metadata": {
    "id": "wGeproFeIiVH"
   },
   "source": [
    "## Model1: LR"
   ]
  },
  {
   "cell_type": "code",
   "execution_count": null,
   "metadata": {
    "colab": {
     "base_uri": "https://localhost:8080/"
    },
    "executionInfo": {
     "elapsed": 26,
     "status": "ok",
     "timestamp": 1658952132200,
     "user": {
      "displayName": "Lez Kuan",
      "userId": "08878049657598906018"
     },
     "user_tz": -480
    },
    "id": "tOxI7al5IiVH",
    "outputId": "6e4db512-c97b-4371-b2d9-8717f0534c6a"
   },
   "outputs": [],
   "source": [
    "LR_model = Sequential()\n",
    "LR_model.add(Embedding(input_dim=VOCAB_SIZE, \n",
    "                       output_dim=STATE_DIM, \n",
    "                       input_length=SENTENCE_LEN))\n",
    "LR_model.add(Flatten())\n",
    "LR_model.add(Dense(CLASSES_NUM, activation='softmax'))\n",
    "\n",
    "LR_model.summary()"
   ]
  },
  {
   "cell_type": "code",
   "execution_count": null,
   "metadata": {
    "executionInfo": {
     "elapsed": 20,
     "status": "ok",
     "timestamp": 1658952132200,
     "user": {
      "displayName": "Lez Kuan",
      "userId": "08878049657598906018"
     },
     "user_tz": -480
    },
    "id": "zvFOjDnkIiVH"
   },
   "outputs": [],
   "source": [
    "LR_model.compile(optimizer=tf.keras.optimizers.RMSprop(LR), \n",
    "                 loss=tf.keras.losses.CategoricalCrossentropy(), \n",
    "                 metrics=['acc'])"
   ]
  },
  {
   "cell_type": "code",
   "execution_count": null,
   "metadata": {
    "colab": {
     "base_uri": "https://localhost:8080/"
    },
    "executionInfo": {
     "elapsed": 22847,
     "status": "ok",
     "timestamp": 1658952155027,
     "user": {
      "displayName": "Lez Kuan",
      "userId": "08878049657598906018"
     },
     "user_tz": -480
    },
    "id": "O6XFnrdYIiVH",
    "outputId": "eb6c8f61-035b-4fb4-c6dc-7b04af8915d5"
   },
   "outputs": [],
   "source": [
    "LR_history = LR_model.fit(train_db, epochs=EPOCHS, validation_data=val_db)"
   ]
  },
  {
   "cell_type": "code",
   "execution_count": null,
   "metadata": {
    "colab": {
     "base_uri": "https://localhost:8080/",
     "height": 329
    },
    "executionInfo": {
     "elapsed": 464,
     "status": "ok",
     "timestamp": 1658957941899,
     "user": {
      "displayName": "Lez Kuan",
      "userId": "08878049657598906018"
     },
     "user_tz": -480
    },
    "id": "xPRG_QVzIiVI",
    "outputId": "a264b2b6-5cd0-49cb-a6b1-092558292a5d"
   },
   "outputs": [],
   "source": [
    "import matplotlib.pyplot as plt\n",
    "fig = plt.figure(dpi=100, figsize=(6, 3))\n",
    "plt.plot(LR_history.history['loss'], 'bo:', label='Loss')\n",
    "plt.plot(LR_history.history['acc'], 'r', label='Acc')\n",
    "plt.xlabel('Epoch')\n",
    "plt.xticks(np.arange(0, EPOCHS))\n",
    "\n",
    "plt.legend(loc=5)\n",
    "plt.title('LR model')\n",
    "plt.show()"
   ]
  },
  {
   "cell_type": "code",
   "execution_count": null,
   "metadata": {
    "colab": {
     "base_uri": "https://localhost:8080/"
    },
    "executionInfo": {
     "elapsed": 20,
     "status": "ok",
     "timestamp": 1658952155029,
     "user": {
      "displayName": "Lez Kuan",
      "userId": "08878049657598906018"
     },
     "user_tz": -480
    },
    "id": "QVmWOiLOKHGg",
    "outputId": "357801aa-a455-4784-a9c7-607064fa1bf2"
   },
   "outputs": [],
   "source": [
    "loss_and_acc = LR_model.evaluate(test_db)\n",
    "print(f'loss: {str(loss_and_acc[0])}')\n",
    "print(f'acc : {str(loss_and_acc[1])}')"
   ]
  },
  {
   "cell_type": "markdown",
   "metadata": {
    "id": "FVpmARHNLJhl"
   },
   "source": [
    "## Model2: RNN"
   ]
  },
  {
   "cell_type": "code",
   "execution_count": null,
   "metadata": {
    "cellView": "form",
    "colab": {
     "base_uri": "https://localhost:8080/"
    },
    "executionInfo": {
     "elapsed": 17,
     "status": "ok",
     "timestamp": 1658952155030,
     "user": {
      "displayName": "Lez Kuan",
      "userId": "08878049657598906018"
     },
     "user_tz": -480
    },
    "id": "kZr94R6BLJDm",
    "outputId": "d71baff7-f960-4138-a92d-a8732a4d8575"
   },
   "outputs": [],
   "source": [
    "#@title\n",
    "RNN_model = Sequential()\n",
    "RNN_model.add(Embedding(input_dim=VOCAB_SIZE, \n",
    "                        output_dim=STATE_DIM, \n",
    "                        input_length=SENTENCE_LEN))\n",
    "RNN_model.add(SimpleRNN(STATE_DIM, return_sequences=False))\n",
    "RNN_model.add(Dense(CLASSES_NUM, activation='softmax'))\n",
    "\n",
    "RNN_model.summary()"
   ]
  },
  {
   "cell_type": "code",
   "execution_count": null,
   "metadata": {
    "executionInfo": {
     "elapsed": 12,
     "status": "ok",
     "timestamp": 1658952155031,
     "user": {
      "displayName": "Lez Kuan",
      "userId": "08878049657598906018"
     },
     "user_tz": -480
    },
    "id": "IAV8xGpZNpkL"
   },
   "outputs": [],
   "source": [
    "RNN_model.compile(optimizer=tf.keras.optimizers.RMSprop(LR), \n",
    "                  loss=tf.keras.losses.CategoricalCrossentropy(), \n",
    "                  metrics=['acc'])"
   ]
  },
  {
   "cell_type": "code",
   "execution_count": null,
   "metadata": {
    "colab": {
     "base_uri": "https://localhost:8080/"
    },
    "executionInfo": {
     "elapsed": 719740,
     "status": "ok",
     "timestamp": 1658953553569,
     "user": {
      "displayName": "Lez Kuan",
      "userId": "08878049657598906018"
     },
     "user_tz": -480
    },
    "id": "8usXl3yRN4Ag",
    "outputId": "af58045d-00eb-4ab5-bda5-2c7094973999"
   },
   "outputs": [],
   "source": [
    "RNN_history = RNN_model.fit(train_db, epochs=EPOCHS, validation_data=val_db)"
   ]
  },
  {
   "cell_type": "code",
   "execution_count": null,
   "metadata": {
    "colab": {
     "base_uri": "https://localhost:8080/"
    },
    "executionInfo": {
     "elapsed": 2933,
     "status": "ok",
     "timestamp": 1658953556497,
     "user": {
      "displayName": "Lez Kuan",
      "userId": "08878049657598906018"
     },
     "user_tz": -480
    },
    "id": "571l9p5zNyuV",
    "outputId": "b7c48812-7237-4c4a-a905-528421a9609d"
   },
   "outputs": [],
   "source": [
    "loss_and_acc = RNN_model.evaluate(test_db)\n",
    "print(f'loss: {str(loss_and_acc[0])}')\n",
    "print(f'acc : {str(loss_and_acc[1])}')"
   ]
  },
  {
   "cell_type": "code",
   "execution_count": null,
   "metadata": {
    "colab": {
     "base_uri": "https://localhost:8080/",
     "height": 329
    },
    "executionInfo": {
     "elapsed": 445,
     "status": "ok",
     "timestamp": 1658957932195,
     "user": {
      "displayName": "Lez Kuan",
      "userId": "08878049657598906018"
     },
     "user_tz": -480
    },
    "id": "hktPCs_aNzsW",
    "outputId": "c4c14d57-c58b-49d0-fcd1-8d71604080c1"
   },
   "outputs": [],
   "source": [
    "import matplotlib.pyplot as plt\n",
    "fig = plt.figure(dpi=100, figsize=(6, 3))\n",
    "plt.plot(RNN_history.history['loss'], 'bo:', label='Loss')\n",
    "plt.plot(RNN_history.history['acc'], 'r', label='Acc')\n",
    "plt.xlabel('Epoch')\n",
    "plt.xticks(np.arange(0, EPOCHS))\n",
    "\n",
    "plt.legend(loc=1)\n",
    "plt.title('RNN model')\n",
    "plt.show()"
   ]
  },
  {
   "cell_type": "markdown",
   "metadata": {
    "id": "w-w0NeJpGau8"
   },
   "source": [
    "## Model3: RNN-return sequences"
   ]
  },
  {
   "cell_type": "code",
   "execution_count": null,
   "metadata": {
    "colab": {
     "base_uri": "https://localhost:8080/"
    },
    "executionInfo": {
     "elapsed": 447,
     "status": "ok",
     "timestamp": 1658953556943,
     "user": {
      "displayName": "Lez Kuan",
      "userId": "08878049657598906018"
     },
     "user_tz": -480
    },
    "id": "DuEN1EHVGY3t",
    "outputId": "430522f4-c795-4f6f-b9f7-723a73cff95c"
   },
   "outputs": [],
   "source": [
    "RNN_r_model = Sequential()\n",
    "RNN_r_model.add(Embedding(input_dim=VOCAB_SIZE, \n",
    "                          output_dim=STATE_DIM, \n",
    "                          input_length=SENTENCE_LEN))\n",
    "RNN_r_model.add(SimpleRNN(STATE_DIM, return_sequences=True))\n",
    "RNN_r_model.add(Flatten())\n",
    "RNN_r_model.add(Dense(CLASSES_NUM, activation='softmax'))\n",
    "\n",
    "RNN_r_model.summary()"
   ]
  },
  {
   "cell_type": "code",
   "execution_count": null,
   "metadata": {
    "executionInfo": {
     "elapsed": 5,
     "status": "ok",
     "timestamp": 1658953556945,
     "user": {
      "displayName": "Lez Kuan",
      "userId": "08878049657598906018"
     },
     "user_tz": -480
    },
    "id": "nVlIHjzzGjU6"
   },
   "outputs": [],
   "source": [
    "RNN_r_model.compile(optimizer=tf.keras.optimizers.RMSprop(LR), \n",
    "                    loss=tf.keras.losses.CategoricalCrossentropy(), \n",
    "                    metrics=['acc'])"
   ]
  },
  {
   "cell_type": "code",
   "execution_count": null,
   "metadata": {
    "colab": {
     "base_uri": "https://localhost:8080/"
    },
    "executionInfo": {
     "elapsed": 972178,
     "status": "ok",
     "timestamp": 1658954960071,
     "user": {
      "displayName": "Lez Kuan",
      "userId": "08878049657598906018"
     },
     "user_tz": -480
    },
    "id": "QKc7jWgITvah",
    "outputId": "8e896b76-4f30-41eb-82b8-6f6b41410aa7"
   },
   "outputs": [],
   "source": [
    "RNN_r_history = RNN_r_model.fit(train_db, epochs=EPOCHS, validation_data=val_db)"
   ]
  },
  {
   "cell_type": "code",
   "execution_count": null,
   "metadata": {
    "colab": {
     "base_uri": "https://localhost:8080/"
    },
    "executionInfo": {
     "elapsed": 2887,
     "status": "ok",
     "timestamp": 1658954962951,
     "user": {
      "displayName": "Lez Kuan",
      "userId": "08878049657598906018"
     },
     "user_tz": -480
    },
    "id": "LbHdz1W2T27D",
    "outputId": "f3e4af53-6f46-4370-a0c7-3918f69847f9"
   },
   "outputs": [],
   "source": [
    "loss_and_acc = RNN_r_model.evaluate(test_db)\n",
    "print(f'loss: {str(loss_and_acc[0])}')\n",
    "print(f'acc : {str(loss_and_acc[1])}')"
   ]
  },
  {
   "cell_type": "code",
   "execution_count": null,
   "metadata": {
    "colab": {
     "base_uri": "https://localhost:8080/",
     "height": 329
    },
    "executionInfo": {
     "elapsed": 498,
     "status": "ok",
     "timestamp": 1658957918652,
     "user": {
      "displayName": "Lez Kuan",
      "userId": "08878049657598906018"
     },
     "user_tz": -480
    },
    "id": "cv3guCGhUBzN",
    "outputId": "5418b0d0-da8c-4c03-e5ed-eefb57063b47"
   },
   "outputs": [],
   "source": [
    "fig = plt.figure(dpi=100, figsize=(6, 3))\n",
    "plt.plot(RNN_r_history.history['loss'], 'bo:', label='Loss')\n",
    "plt.plot(RNN_r_history.history['acc'], 'r', label='Acc')\n",
    "plt.xlabel('Epoch')\n",
    "plt.xticks(np.arange(0, EPOCHS))\n",
    "\n",
    "plt.legend(loc=5)\n",
    "plt.title('RNN_r model')\n",
    "plt.show()"
   ]
  },
  {
   "cell_type": "markdown",
   "metadata": {
    "id": "ARdpQO5cUdF7"
   },
   "source": [
    "## Model4: LSTM"
   ]
  },
  {
   "cell_type": "code",
   "execution_count": null,
   "metadata": {
    "colab": {
     "base_uri": "https://localhost:8080/"
    },
    "executionInfo": {
     "elapsed": 421,
     "status": "ok",
     "timestamp": 1658954963363,
     "user": {
      "displayName": "Lez Kuan",
      "userId": "08878049657598906018"
     },
     "user_tz": -480
    },
    "id": "Dv0LkLDwUbjn",
    "outputId": "fe552263-78c0-48aa-eaf8-26c531771356"
   },
   "outputs": [],
   "source": [
    "LSTM_model = Sequential()\n",
    "LSTM_model.add(Embedding(input_dim=VOCAB_SIZE, \n",
    "                         output_dim=STATE_DIM, \n",
    "                         input_length=SENTENCE_LEN))\n",
    "LSTM_model.add(LSTM(STATE_DIM, return_sequences=False))\n",
    "LSTM_model.add(Dense(CLASSES_NUM, activation='softmax'))\n",
    "\n",
    "LSTM_model.summary()"
   ]
  },
  {
   "cell_type": "code",
   "execution_count": null,
   "metadata": {
    "executionInfo": {
     "elapsed": 3,
     "status": "ok",
     "timestamp": 1658954963364,
     "user": {
      "displayName": "Lez Kuan",
      "userId": "08878049657598906018"
     },
     "user_tz": -480
    },
    "id": "-tQhy4Orsyt1"
   },
   "outputs": [],
   "source": [
    "LSTM_model.compile(optimizer=tf.keras.optimizers.RMSprop(LR), \n",
    "                   loss=tf.keras.losses.CategoricalCrossentropy(), \n",
    "                   metrics=['acc'])"
   ]
  },
  {
   "cell_type": "code",
   "execution_count": null,
   "metadata": {
    "colab": {
     "base_uri": "https://localhost:8080/"
    },
    "executionInfo": {
     "elapsed": 102108,
     "status": "ok",
     "timestamp": 1658955065468,
     "user": {
      "displayName": "Lez Kuan",
      "userId": "08878049657598906018"
     },
     "user_tz": -480
    },
    "id": "4upO9O3gs8k4",
    "outputId": "bd03ee35-6bd1-430e-f1e8-ae5ece08bf23"
   },
   "outputs": [],
   "source": [
    "LSTM_history = LSTM_model.fit(train_db, epochs=EPOCHS, validation_data=val_db)"
   ]
  },
  {
   "cell_type": "code",
   "execution_count": null,
   "metadata": {
    "colab": {
     "base_uri": "https://localhost:8080/"
    },
    "executionInfo": {
     "elapsed": 2724,
     "status": "ok",
     "timestamp": 1658955424965,
     "user": {
      "displayName": "Lez Kuan",
      "userId": "08878049657598906018"
     },
     "user_tz": -480
    },
    "id": "IDA5RZD8ctCj",
    "outputId": "71962199-70e3-40fc-a234-e8d6ed332919"
   },
   "outputs": [],
   "source": [
    "loss_and_acc = LSTM_model.evaluate(test_db)\n",
    "print(f'loss: {str(loss_and_acc[0])}')\n",
    "print(f'acc : {str(loss_and_acc[1])}')"
   ]
  },
  {
   "cell_type": "code",
   "execution_count": null,
   "metadata": {
    "colab": {
     "base_uri": "https://localhost:8080/",
     "height": 329
    },
    "executionInfo": {
     "elapsed": 462,
     "status": "ok",
     "timestamp": 1658957866859,
     "user": {
      "displayName": "Lez Kuan",
      "userId": "08878049657598906018"
     },
     "user_tz": -480
    },
    "id": "D-N-VIaVcxrh",
    "outputId": "877eaead-fdcb-4886-daf2-12a7892945f3"
   },
   "outputs": [],
   "source": [
    "fig = plt.figure(dpi=100, figsize=(6, 3))\n",
    "plt.plot(LSTM_history.history['loss'], 'bo:', label='Loss')\n",
    "plt.plot(LSTM_history.history['acc'], 'r', label='Acc')\n",
    "plt.xlabel('Epoch')\n",
    "plt.xticks(np.arange(0, EPOCHS))\n",
    "\n",
    "plt.legend(loc=1)\n",
    "plt.title('LSTM model')\n",
    "plt.show()"
   ]
  },
  {
   "cell_type": "markdown",
   "metadata": {
    "id": "ZkN12W0OtlUV"
   },
   "source": [
    "## Model5: LSTM-return sequences"
   ]
  },
  {
   "cell_type": "code",
   "execution_count": null,
   "metadata": {
    "colab": {
     "base_uri": "https://localhost:8080/"
    },
    "executionInfo": {
     "elapsed": 576,
     "status": "ok",
     "timestamp": 1658955472411,
     "user": {
      "displayName": "Lez Kuan",
      "userId": "08878049657598906018"
     },
     "user_tz": -480
    },
    "id": "c9xZY34qc39U",
    "outputId": "80470b67-02c4-4e6e-abb5-c63622e9522f"
   },
   "outputs": [],
   "source": [
    "LSTM_r_model = Sequential()\n",
    "LSTM_r_model.add(Embedding(input_dim=VOCAB_SIZE, \n",
    "                           output_dim=STATE_DIM, \n",
    "                           input_length=SENTENCE_LEN))\n",
    "LSTM_r_model.add(LSTM(STATE_DIM, return_sequences=True))\n",
    "LSTM_r_model.add(Flatten())\n",
    "LSTM_r_model.add(Dense(CLASSES_NUM, activation='softmax'))\n",
    "\n",
    "LSTM_r_model.summary()"
   ]
  },
  {
   "cell_type": "code",
   "execution_count": null,
   "metadata": {
    "executionInfo": {
     "elapsed": 453,
     "status": "ok",
     "timestamp": 1658955489700,
     "user": {
      "displayName": "Lez Kuan",
      "userId": "08878049657598906018"
     },
     "user_tz": -480
    },
    "id": "WeQLSKqEc8Ke"
   },
   "outputs": [],
   "source": [
    "LSTM_r_model.compile(optimizer=tf.keras.optimizers.RMSprop(LR), \n",
    "                     loss=tf.keras.losses.CategoricalCrossentropy(), \n",
    "                     metrics=['acc'])"
   ]
  },
  {
   "cell_type": "code",
   "execution_count": null,
   "metadata": {
    "colab": {
     "base_uri": "https://localhost:8080/"
    },
    "executionInfo": {
     "elapsed": 99050,
     "status": "ok",
     "timestamp": 1658955601050,
     "user": {
      "displayName": "Lez Kuan",
      "userId": "08878049657598906018"
     },
     "user_tz": -480
    },
    "id": "3lVFO1VIdAUQ",
    "outputId": "2854eab3-8aa4-4a08-c1d3-6c588d4765ef"
   },
   "outputs": [],
   "source": [
    "LSTM_r_history = LSTM_r_model.fit(train_db, epochs=EPOCHS, validation_data=val_db)"
   ]
  },
  {
   "cell_type": "code",
   "execution_count": null,
   "metadata": {
    "colab": {
     "base_uri": "https://localhost:8080/"
    },
    "executionInfo": {
     "elapsed": 2803,
     "status": "ok",
     "timestamp": 1658955617306,
     "user": {
      "displayName": "Lez Kuan",
      "userId": "08878049657598906018"
     },
     "user_tz": -480
    },
    "id": "2Zmi052etvdp",
    "outputId": "ab365a3f-f89e-49c0-afd4-57175a465b10"
   },
   "outputs": [],
   "source": [
    "loss_and_acc = LSTM_r_model.evaluate(test_db)\n",
    "print(f'loss: {str(loss_and_acc[0])}')\n",
    "print(f'acc : {str(loss_and_acc[1])}')"
   ]
  },
  {
   "cell_type": "code",
   "execution_count": null,
   "metadata": {
    "colab": {
     "base_uri": "https://localhost:8080/",
     "height": 329
    },
    "executionInfo": {
     "elapsed": 4024,
     "status": "ok",
     "timestamp": 1658957984512,
     "user": {
      "displayName": "Lez Kuan",
      "userId": "08878049657598906018"
     },
     "user_tz": -480
    },
    "id": "iw1GwXyUdhM5",
    "outputId": "dde99352-559e-45b0-edae-9c9fb2628068"
   },
   "outputs": [],
   "source": [
    "fig = plt.figure(dpi=100, figsize=(6, 3))\n",
    "plt.plot(LSTM_r_history.history['loss'], 'bo:', label='Loss')\n",
    "plt.plot(LSTM_r_history.history['acc'], 'r', label='Acc')\n",
    "plt.xlabel('Epoch')\n",
    "plt.xticks(np.arange(0, EPOCHS))\n",
    "\n",
    "plt.legend(loc=5)\n",
    "plt.title('LSTM_r model')\n",
    "plt.show()"
   ]
  },
  {
   "cell_type": "markdown",
   "metadata": {
    "id": "1uuYGWn7uPFo"
   },
   "source": [
    "## Model6: Stacked LSTM"
   ]
  },
  {
   "cell_type": "code",
   "execution_count": null,
   "metadata": {
    "colab": {
     "base_uri": "https://localhost:8080/"
    },
    "executionInfo": {
     "elapsed": 1025,
     "status": "ok",
     "timestamp": 1658955658292,
     "user": {
      "displayName": "Lez Kuan",
      "userId": "08878049657598906018"
     },
     "user_tz": -480
    },
    "id": "hTnkmoYqdmF3",
    "outputId": "f87259bc-38ae-475c-af4c-7efc51f7c50b"
   },
   "outputs": [],
   "source": [
    "sLSTM_model = Sequential()\n",
    "sLSTM_model.add(Embedding(input_dim=VOCAB_SIZE, \n",
    "                          output_dim=STATE_DIM, \n",
    "                          input_length=SENTENCE_LEN))\n",
    "sLSTM_model.add(LSTM(STATE_DIM, return_sequences=True, dropout=0.2))\n",
    "sLSTM_model.add(LSTM(STATE_DIM, return_sequences=True, dropout=0.2))\n",
    "sLSTM_model.add(LSTM(STATE_DIM, return_sequences=False, dropout=0.2))\n",
    "sLSTM_model.add(Dense(CLASSES_NUM, activation='softmax'))\n",
    "\n",
    "sLSTM_model.summary()"
   ]
  },
  {
   "cell_type": "code",
   "execution_count": null,
   "metadata": {
    "executionInfo": {
     "elapsed": 479,
     "status": "ok",
     "timestamp": 1658955675755,
     "user": {
      "displayName": "Lez Kuan",
      "userId": "08878049657598906018"
     },
     "user_tz": -480
    },
    "id": "1BzTdeosdpp1"
   },
   "outputs": [],
   "source": [
    "sLSTM_model.compile(optimizer=tf.keras.optimizers.RMSprop(LR), \n",
    "                    loss=tf.keras.losses.CategoricalCrossentropy(), \n",
    "                    metrics=['acc'])"
   ]
  },
  {
   "cell_type": "code",
   "execution_count": null,
   "metadata": {
    "colab": {
     "base_uri": "https://localhost:8080/"
    },
    "executionInfo": {
     "elapsed": 367275,
     "status": "ok",
     "timestamp": 1658956060487,
     "user": {
      "displayName": "Lez Kuan",
      "userId": "08878049657598906018"
     },
     "user_tz": -480
    },
    "id": "Q2MzOyKbds6i",
    "outputId": "20bfb672-7340-449e-ea96-3f61901aed8d"
   },
   "outputs": [],
   "source": [
    "sLSTM_history = sLSTM_model.fit(train_db, epochs=EPOCHS, validation_data=val_db)"
   ]
  },
  {
   "cell_type": "code",
   "execution_count": null,
   "metadata": {
    "colab": {
     "base_uri": "https://localhost:8080/"
    },
    "executionInfo": {
     "elapsed": 2342,
     "status": "ok",
     "timestamp": 1658956278491,
     "user": {
      "displayName": "Lez Kuan",
      "userId": "08878049657598906018"
     },
     "user_tz": -480
    },
    "id": "EnDF8UE9dxdT",
    "outputId": "892728e7-3977-4f59-c071-6466570f4a50"
   },
   "outputs": [],
   "source": [
    "loss_and_acc = sLSTM_model.evaluate(test_db)\n",
    "print(f'loss: {str(loss_and_acc[0])}')\n",
    "print(f'acc : {str(loss_and_acc[1])}')"
   ]
  },
  {
   "cell_type": "code",
   "execution_count": null,
   "metadata": {
    "colab": {
     "base_uri": "https://localhost:8080/",
     "height": 329
    },
    "executionInfo": {
     "elapsed": 777,
     "status": "ok",
     "timestamp": 1658958010621,
     "user": {
      "displayName": "Lez Kuan",
      "userId": "08878049657598906018"
     },
     "user_tz": -480
    },
    "id": "CtXZZ_6R0dlW",
    "outputId": "ab35dbb8-9b8a-41ea-af01-74eb4ec3a1ff"
   },
   "outputs": [],
   "source": [
    "fig = plt.figure(dpi=100, figsize=(6, 3))\n",
    "plt.plot(sLSTM_history.history['loss'], 'bo:', label='Loss')\n",
    "plt.plot(sLSTM_history.history['acc'], 'r', label='Acc')\n",
    "plt.xlabel('Epoch')\n",
    "plt.xticks(np.arange(0, EPOCHS))\n",
    "\n",
    "plt.legend(loc=1)\n",
    "plt.title('Stacked LSTM model')\n",
    "plt.show()"
   ]
  },
  {
   "cell_type": "markdown",
   "metadata": {
    "id": "O19s0-WL1SlY"
   },
   "source": [
    "## Model7: BiLSTM"
   ]
  },
  {
   "cell_type": "code",
   "execution_count": null,
   "metadata": {
    "colab": {
     "base_uri": "https://localhost:8080/"
    },
    "executionInfo": {
     "elapsed": 1185,
     "status": "ok",
     "timestamp": 1658956286061,
     "user": {
      "displayName": "Lez Kuan",
      "userId": "08878049657598906018"
     },
     "user_tz": -480
    },
    "id": "6NshCTcId5rm",
    "outputId": "2d82615d-88d5-4ffd-93c6-601389eeaf3c"
   },
   "outputs": [],
   "source": [
    "BiLSTM_model = Sequential()\n",
    "BiLSTM_model.add(Embedding(input_dim=VOCAB_SIZE, \n",
    "                           output_dim=STATE_DIM, \n",
    "                           input_length=SENTENCE_LEN))\n",
    "BiLSTM_model.add(\n",
    "    Bidirectional(LSTM(STATE_DIM, return_sequences=False, dropout=0.2)))\n",
    "BiLSTM_model.add(Dense(CLASSES_NUM, activation='softmax'))\n",
    "\n",
    "BiLSTM_model.summary()"
   ]
  },
  {
   "cell_type": "code",
   "execution_count": null,
   "metadata": {
    "executionInfo": {
     "elapsed": 659,
     "status": "ok",
     "timestamp": 1658956289959,
     "user": {
      "displayName": "Lez Kuan",
      "userId": "08878049657598906018"
     },
     "user_tz": -480
    },
    "id": "WPm7Kotad8Iu"
   },
   "outputs": [],
   "source": [
    "BiLSTM_model.compile(optimizer=tf.keras.optimizers.RMSprop(LR), \n",
    "                     loss=tf.keras.losses.CategoricalCrossentropy(), \n",
    "                     metrics=['acc'])"
   ]
  },
  {
   "cell_type": "code",
   "execution_count": null,
   "metadata": {
    "colab": {
     "base_uri": "https://localhost:8080/"
    },
    "executionInfo": {
     "elapsed": 211440,
     "status": "ok",
     "timestamp": 1658956503867,
     "user": {
      "displayName": "Lez Kuan",
      "userId": "08878049657598906018"
     },
     "user_tz": -480
    },
    "id": "9pt5yM2Rd_Hs",
    "outputId": "774ff6c9-ab49-41e0-9ea6-debc6b5470a8"
   },
   "outputs": [],
   "source": [
    "BiLSTM_history = BiLSTM_model.fit(train_db, epochs=EPOCHS, validation_data=val_db)"
   ]
  },
  {
   "cell_type": "code",
   "execution_count": null,
   "metadata": {
    "colab": {
     "base_uri": "https://localhost:8080/"
    },
    "executionInfo": {
     "elapsed": 2481,
     "status": "ok",
     "timestamp": 1658956522829,
     "user": {
      "displayName": "Lez Kuan",
      "userId": "08878049657598906018"
     },
     "user_tz": -480
    },
    "id": "GsVggBOmeBwR",
    "outputId": "9eacc51b-ed8d-4974-8fc4-622165d5df74"
   },
   "outputs": [],
   "source": [
    "loss_and_acc = BiLSTM_model.evaluate(test_db)\n",
    "print(f'loss: {str(loss_and_acc[0])}')\n",
    "print(f'acc : {str(loss_and_acc[1])}')"
   ]
  },
  {
   "cell_type": "code",
   "execution_count": null,
   "metadata": {
    "colab": {
     "base_uri": "https://localhost:8080/",
     "height": 329
    },
    "executionInfo": {
     "elapsed": 479,
     "status": "ok",
     "timestamp": 1658958022473,
     "user": {
      "displayName": "Lez Kuan",
      "userId": "08878049657598906018"
     },
     "user_tz": -480
    },
    "id": "rIB80469eEJ-",
    "outputId": "238cc23d-4614-4091-8636-ce2a70550b40"
   },
   "outputs": [],
   "source": [
    "fig = plt.figure(dpi=100, figsize=(6, 3))\n",
    "plt.plot(BiLSTM_history.history['loss'], 'bo:', label='Loss')\n",
    "plt.plot(BiLSTM_history.history['acc'], 'r', label='Acc')\n",
    "plt.xlabel('Epoch')\n",
    "plt.xticks(np.arange(0, EPOCHS))\n",
    "\n",
    "plt.legend(loc=1)\n",
    "plt.title('BiLSTM model')\n",
    "plt.show()"
   ]
  },
  {
   "cell_type": "markdown",
   "metadata": {
    "id": "2Nr-cptY2P7h"
   },
   "source": [
    "# SUMMARY"
   ]
  },
  {
   "cell_type": "code",
   "execution_count": null,
   "metadata": {
    "colab": {
     "base_uri": "https://localhost:8080/",
     "height": 336
    },
    "executionInfo": {
     "elapsed": 1301,
     "status": "ok",
     "timestamp": 1658959210671,
     "user": {
      "displayName": "Lez Kuan",
      "userId": "08878049657598906018"
     },
     "user_tz": -480
    },
    "id": "HF7nV6bQ2Paw",
    "outputId": "1a82f2e6-a97b-4840-e40b-01143fa82544"
   },
   "outputs": [],
   "source": [
    "fig = plt.figure(dpi=100, figsize=(5.95, 3))\n",
    "# LR\n",
    "plt.plot(LR_history.history['loss'], 'r', label='LR')\n",
    "\n",
    "# RNN\n",
    "plt.plot(RNN_history.history['loss'], 'g', label='RNN')\n",
    "\n",
    "# RNN-r\n",
    "plt.plot(RNN_r_history.history['loss'], 'b', label='RNN-r')\n",
    "\n",
    "# LSTM\n",
    "plt.plot(LSTM_history.history['loss'], 'y', label='LSTM')\n",
    "\n",
    "# LSTM-r\n",
    "plt.plot(LSTM_r_history.history['loss'], 'c', label='LSTM-r')\n",
    "\n",
    "# sLSTM\n",
    "plt.plot(sLSTM_history.history['loss'], 'm', label='LSTM-s')\n",
    "\n",
    "# BiLSTM\n",
    "plt.plot(BiLSTM_history.history['loss'], 'k', label='BiLSTM')\n",
    "\n",
    "title_xl = {\n",
    "    \"fontfamily\": 'times new roman',\n",
    "    \"fontsize\": 14,\n",
    "    \"fontweight\": 'bold',\n",
    "}\n",
    "plt.xlabel('Epoch', title_xl)\n",
    "plt.ylabel('Loss', title_xl)\n",
    "plt.xticks(np.arange(0, EPOCHS))\n",
    "\n",
    "plt.legend(loc=1, bbox_to_anchor=(1.25, .7))\n",
    "title_d = {\n",
    "    \"fontsize\": 16,\n",
    "    \"fontweight\": 'bold',\n",
    "}\n",
    "plt.title('THUCNEWs Losses', title_d)\n",
    "\n",
    "plt.savefig(f'./drive/MyDrive/THUCNEWs/Thucnews_{EPOCHS}Epochs_Loss_Result.png', dpi=200, bbox_inches='tight')\n",
    "plt.show()"
   ]
  },
  {
   "cell_type": "code",
   "execution_count": null,
   "metadata": {
    "colab": {
     "base_uri": "https://localhost:8080/",
     "height": 335
    },
    "executionInfo": {
     "elapsed": 1369,
     "status": "ok",
     "timestamp": 1658959106550,
     "user": {
      "displayName": "Lez Kuan",
      "userId": "08878049657598906018"
     },
     "user_tz": -480
    },
    "id": "bCtFdAjm-3bk",
    "outputId": "78f0a1a0-f432-436d-804e-9a78333d9571"
   },
   "outputs": [],
   "source": [
    "fig = plt.figure(dpi=100, figsize=(5.95, 3))\n",
    "# LR\n",
    "plt.plot(LR_history.history['acc'], 'r', label='LR')\n",
    "\n",
    "# RNN\n",
    "plt.plot(RNN_history.history['acc'], 'g', label='RNN')\n",
    "\n",
    "# RNN-r\n",
    "plt.plot(RNN_r_history.history['acc'], 'b', label='RNN-r')\n",
    "\n",
    "# LSTM\n",
    "plt.plot(LSTM_history.history['acc'], 'y', label='LSTM')\n",
    "\n",
    "# LSTM-r\n",
    "plt.plot(LSTM_r_history.history['acc'], 'c', label='LSTM-r')\n",
    "\n",
    "# sLSTM\n",
    "plt.plot(sLSTM_history.history['acc'], 'm', label='LSTM-s')\n",
    "\n",
    "# BiLSTM\n",
    "plt.plot(BiLSTM_history.history['acc'], 'k', label='BiLSTM')\n",
    "\n",
    "title_xl = {\n",
    "    \"fontsize\": 12,\n",
    "    \"fontweight\": 'bold',\n",
    "}\n",
    "plt.xlabel('Epoch', title_xl)\n",
    "plt.ylabel('Accuracy Rate', title_xl)\n",
    "plt.xticks(np.arange(0, EPOCHS))\n",
    "\n",
    "plt.legend(loc=1, bbox_to_anchor=(1.25, .7))\n",
    "title_d = {\n",
    "    \"fontsize\": 16,\n",
    "    \"fontweight\": 'bold',\n",
    "}\n",
    "plt.title('THUCNEWs Accuracy', title_d)\n",
    "\n",
    "plt.savefig(f'./drive/MyDrive/THUCNEWs/Thucnews_{EPOCHS}Epochs_Acc_Result.png', dpi=200, bbox_inches='tight')\n",
    "plt.show()"
   ]
  },
  {
   "cell_type": "markdown",
   "metadata": {
    "id": "o0imURKBeTwt"
   },
   "source": [
    "# SAVE"
   ]
  },
  {
   "cell_type": "code",
   "execution_count": null,
   "metadata": {
    "colab": {
     "base_uri": "https://localhost:8080/"
    },
    "executionInfo": {
     "elapsed": 37425,
     "status": "ok",
     "timestamp": 1658957003393,
     "user": {
      "displayName": "Lez Kuan",
      "userId": "08878049657598906018"
     },
     "user_tz": -480
    },
    "id": "9Y3KLQ5JeJWb",
    "outputId": "26307db5-5e37-47a4-a6dc-20080db7cb2f"
   },
   "outputs": [],
   "source": [
    "t = time.time()\n",
    "result_path = '/Result'\n",
    "if not os.path.exists(result_path):\n",
    "    os.mkdir(result_path)\n",
    "\n",
    "# LR\n",
    "lr_path = os.path.join(result_path, 'lr.pkl')\n",
    "if not os.path.exists(lr_path):\n",
    "    pickle.dump(LR_history, open(lr_path, 'wb'))\n",
    "\n",
    "# RNN\n",
    "rnn_path = os.path.join(result_path, 'rnn.pkl')\n",
    "if not os.path.exists(rnn_path):\n",
    "    pickle.dump(RNN_history, open(rnn_path, 'wb'))\n",
    "\n",
    "# RNN-r\n",
    "rnnr_path = os.path.join(result_path, 'rnn-r.pkl')\n",
    "if not os.path.exists(rnnr_path):\n",
    "    pickle.dump(RNN_r_history, open(rnnr_path, 'wb'))\n",
    "\n",
    "# LSTM\n",
    "lstm_path = os.path.join(result_path, 'lstm.pkl')\n",
    "if not os.path.exists(lstm_path):\n",
    "    pickle.dump(LSTM_history, open(lstm_path, 'wb'))\n",
    "\n",
    "# LSTM-r\n",
    "lstmr_path = os.path.join(result_path, 'lstm-r.pkl')\n",
    "if not os.path.exists(lstmr_path):\n",
    "    pickle.dump(LSTM_r_history, open(lstmr_path, 'wb'))\n",
    "\n",
    "# LSTM-s\n",
    "lstms_path = os.path.join(result_path, 'lstm-s.pkl')\n",
    "if not os.path.exists(lstms_path):\n",
    "    pickle.dump(sLSTM_history, open(lstms_path, 'wb'))\n",
    "\n",
    "# BiLSTM\n",
    "bilstm_path = os.path.join(result_path, 'bilstm.pkl')\n",
    "if not os.path.exists(bilstm_path):\n",
    "    pickle.dump(BiLSTM_history, open(bilstm_path, 'wb'))\n",
    "print(f'Finished! Cost: {time.time() - t:.2f}s')"
   ]
  }
 ],
 "metadata": {
  "accelerator": "GPU",
  "colab": {
   "collapsed_sections": [],
   "name": "thucnews_class.ipynb",
   "provenance": []
  },
  "gpuClass": "standard",
  "kernelspec": {
   "display_name": "Python 3 (ipykernel)",
   "language": "python",
   "name": "python3"
  },
  "language_info": {
   "codemirror_mode": {
    "name": "ipython",
    "version": 3
   },
   "file_extension": ".py",
   "mimetype": "text/x-python",
   "name": "python",
   "nbconvert_exporter": "python",
   "pygments_lexer": "ipython3",
   "version": "3.8.12"
  },
  "toc": {
   "base_numbering": 1,
   "nav_menu": {
    "height": "327.997px",
    "width": "215px"
   },
   "number_sections": true,
   "sideBar": true,
   "skip_h1_title": false,
   "title_cell": "Table of Contents",
   "title_sidebar": "Contents",
   "toc_cell": false,
   "toc_position": {},
   "toc_section_display": true,
   "toc_window_display": false
  },
  "toc-autonumbering": true,
  "toc-showmarkdowntxt": false,
  "varInspector": {
   "cols": {
    "lenName": 16,
    "lenType": 16,
    "lenVar": 40
   },
   "kernels_config": {
    "python": {
     "delete_cmd_postfix": "",
     "delete_cmd_prefix": "del ",
     "library": "var_list.py",
     "varRefreshCmd": "print(var_dic_list())"
    },
    "r": {
     "delete_cmd_postfix": ") ",
     "delete_cmd_prefix": "rm(",
     "library": "var_list.r",
     "varRefreshCmd": "cat(var_dic_list()) "
    }
   },
   "types_to_exclude": [
    "module",
    "function",
    "builtin_function_or_method",
    "instance",
    "_Feature"
   ],
   "window_display": false
  },
  "vscode": {
   "interpreter": {
    "hash": "d505534fc3e998b8e44a6c41c153d840e565220cdc94e274ce6cd07eb64a3132"
   }
  },
  "widgets": {
   "application/vnd.jupyter.widget-state+json": {
    "0996dfcdcb18483298ba39180fb7669f": {
     "model_module": "@jupyter-widgets/base",
     "model_module_version": "1.2.0",
     "model_name": "LayoutModel",
     "state": {
      "_model_module": "@jupyter-widgets/base",
      "_model_module_version": "1.2.0",
      "_model_name": "LayoutModel",
      "_view_count": null,
      "_view_module": "@jupyter-widgets/base",
      "_view_module_version": "1.2.0",
      "_view_name": "LayoutView",
      "align_content": null,
      "align_items": null,
      "align_self": null,
      "border": null,
      "bottom": null,
      "display": null,
      "flex": null,
      "flex_flow": null,
      "grid_area": null,
      "grid_auto_columns": null,
      "grid_auto_flow": null,
      "grid_auto_rows": null,
      "grid_column": null,
      "grid_gap": null,
      "grid_row": null,
      "grid_template_areas": null,
      "grid_template_columns": null,
      "grid_template_rows": null,
      "height": null,
      "justify_content": null,
      "justify_items": null,
      "left": null,
      "margin": null,
      "max_height": null,
      "max_width": null,
      "min_height": null,
      "min_width": null,
      "object_fit": null,
      "object_position": null,
      "order": null,
      "overflow": null,
      "overflow_x": null,
      "overflow_y": null,
      "padding": null,
      "right": null,
      "top": null,
      "visibility": null,
      "width": null
     }
    },
    "0dac40511eae4365b98ba3c3b5242693": {
     "model_module": "@jupyter-widgets/controls",
     "model_module_version": "1.5.0",
     "model_name": "HTMLModel",
     "state": {
      "_dom_classes": [],
      "_model_module": "@jupyter-widgets/controls",
      "_model_module_version": "1.5.0",
      "_model_name": "HTMLModel",
      "_view_count": null,
      "_view_module": "@jupyter-widgets/controls",
      "_view_module_version": "1.5.0",
      "_view_name": "HTMLView",
      "description": "",
      "description_tooltip": null,
      "layout": "IPY_MODEL_e105de1a8a2d4791a484cd2859bde06e",
      "placeholder": "​",
      "style": "IPY_MODEL_7781cb005a00483f8a7fcc966f83e2f2",
      "value": "100%"
     }
    },
    "0e57440fbeff41718045090cddd9534f": {
     "model_module": "@jupyter-widgets/controls",
     "model_module_version": "1.5.0",
     "model_name": "FloatProgressModel",
     "state": {
      "_dom_classes": [],
      "_model_module": "@jupyter-widgets/controls",
      "_model_module_version": "1.5.0",
      "_model_name": "FloatProgressModel",
      "_view_count": null,
      "_view_module": "@jupyter-widgets/controls",
      "_view_module_version": "1.5.0",
      "_view_name": "ProgressView",
      "bar_style": "success",
      "description": "",
      "description_tooltip": null,
      "layout": "IPY_MODEL_8b4aed1d963b404197390224b80b49a3",
      "max": 10000,
      "min": 0,
      "orientation": "horizontal",
      "style": "IPY_MODEL_5d13613333a0449bb416e211ac95b269",
      "value": 10000
     }
    },
    "1de04f20114b49678ba91fb5d907e081": {
     "model_module": "@jupyter-widgets/base",
     "model_module_version": "1.2.0",
     "model_name": "LayoutModel",
     "state": {
      "_model_module": "@jupyter-widgets/base",
      "_model_module_version": "1.2.0",
      "_model_name": "LayoutModel",
      "_view_count": null,
      "_view_module": "@jupyter-widgets/base",
      "_view_module_version": "1.2.0",
      "_view_name": "LayoutView",
      "align_content": null,
      "align_items": null,
      "align_self": null,
      "border": null,
      "bottom": null,
      "display": null,
      "flex": null,
      "flex_flow": null,
      "grid_area": null,
      "grid_auto_columns": null,
      "grid_auto_flow": null,
      "grid_auto_rows": null,
      "grid_column": null,
      "grid_gap": null,
      "grid_row": null,
      "grid_template_areas": null,
      "grid_template_columns": null,
      "grid_template_rows": null,
      "height": null,
      "justify_content": null,
      "justify_items": null,
      "left": null,
      "margin": null,
      "max_height": null,
      "max_width": null,
      "min_height": null,
      "min_width": null,
      "object_fit": null,
      "object_position": null,
      "order": null,
      "overflow": null,
      "overflow_x": null,
      "overflow_y": null,
      "padding": null,
      "right": null,
      "top": null,
      "visibility": null,
      "width": null
     }
    },
    "1e2c062a45f948b49aede5c9c9690ed0": {
     "model_module": "@jupyter-widgets/controls",
     "model_module_version": "1.5.0",
     "model_name": "HTMLModel",
     "state": {
      "_dom_classes": [],
      "_model_module": "@jupyter-widgets/controls",
      "_model_module_version": "1.5.0",
      "_model_name": "HTMLModel",
      "_view_count": null,
      "_view_module": "@jupyter-widgets/controls",
      "_view_module_version": "1.5.0",
      "_view_name": "HTMLView",
      "description": "",
      "description_tooltip": null,
      "layout": "IPY_MODEL_a008d5cb69f74dec969d6cd2a4539af9",
      "placeholder": "​",
      "style": "IPY_MODEL_439a817d00e0407695253db53dec23f3",
      "value": " 50000/50000 [00:00&lt;00:00, 77872.02it/s]"
     }
    },
    "1f4d7432aa054ca895143e56fcb40c73": {
     "model_module": "@jupyter-widgets/base",
     "model_module_version": "1.2.0",
     "model_name": "LayoutModel",
     "state": {
      "_model_module": "@jupyter-widgets/base",
      "_model_module_version": "1.2.0",
      "_model_name": "LayoutModel",
      "_view_count": null,
      "_view_module": "@jupyter-widgets/base",
      "_view_module_version": "1.2.0",
      "_view_name": "LayoutView",
      "align_content": null,
      "align_items": null,
      "align_self": null,
      "border": null,
      "bottom": null,
      "display": null,
      "flex": null,
      "flex_flow": null,
      "grid_area": null,
      "grid_auto_columns": null,
      "grid_auto_flow": null,
      "grid_auto_rows": null,
      "grid_column": null,
      "grid_gap": null,
      "grid_row": null,
      "grid_template_areas": null,
      "grid_template_columns": null,
      "grid_template_rows": null,
      "height": null,
      "justify_content": null,
      "justify_items": null,
      "left": null,
      "margin": null,
      "max_height": null,
      "max_width": null,
      "min_height": null,
      "min_width": null,
      "object_fit": null,
      "object_position": null,
      "order": null,
      "overflow": null,
      "overflow_x": null,
      "overflow_y": null,
      "padding": null,
      "right": null,
      "top": null,
      "visibility": null,
      "width": null
     }
    },
    "22a7269308924bd68455bdf4eb234489": {
     "model_module": "@jupyter-widgets/controls",
     "model_module_version": "1.5.0",
     "model_name": "FloatProgressModel",
     "state": {
      "_dom_classes": [],
      "_model_module": "@jupyter-widgets/controls",
      "_model_module_version": "1.5.0",
      "_model_name": "FloatProgressModel",
      "_view_count": null,
      "_view_module": "@jupyter-widgets/controls",
      "_view_module_version": "1.5.0",
      "_view_name": "ProgressView",
      "bar_style": "success",
      "description": "",
      "description_tooltip": null,
      "layout": "IPY_MODEL_4f06163418b14cec90edef8f9b080613",
      "max": 50000,
      "min": 0,
      "orientation": "horizontal",
      "style": "IPY_MODEL_3cb7f4dded0d41428e50d6b93afa2d01",
      "value": 50000
     }
    },
    "2a9221dff64e4fa5ba4e5e9e85e26a8a": {
     "model_module": "@jupyter-widgets/controls",
     "model_module_version": "1.5.0",
     "model_name": "ProgressStyleModel",
     "state": {
      "_model_module": "@jupyter-widgets/controls",
      "_model_module_version": "1.5.0",
      "_model_name": "ProgressStyleModel",
      "_view_count": null,
      "_view_module": "@jupyter-widgets/base",
      "_view_module_version": "1.2.0",
      "_view_name": "StyleView",
      "bar_color": null,
      "description_width": ""
     }
    },
    "30427ccbd62a4ff6907b4c37a1fc933a": {
     "model_module": "@jupyter-widgets/controls",
     "model_module_version": "1.5.0",
     "model_name": "DescriptionStyleModel",
     "state": {
      "_model_module": "@jupyter-widgets/controls",
      "_model_module_version": "1.5.0",
      "_model_name": "DescriptionStyleModel",
      "_view_count": null,
      "_view_module": "@jupyter-widgets/base",
      "_view_module_version": "1.2.0",
      "_view_name": "StyleView",
      "description_width": ""
     }
    },
    "32d794267f644768ab351d4eca81922c": {
     "model_module": "@jupyter-widgets/base",
     "model_module_version": "1.2.0",
     "model_name": "LayoutModel",
     "state": {
      "_model_module": "@jupyter-widgets/base",
      "_model_module_version": "1.2.0",
      "_model_name": "LayoutModel",
      "_view_count": null,
      "_view_module": "@jupyter-widgets/base",
      "_view_module_version": "1.2.0",
      "_view_name": "LayoutView",
      "align_content": null,
      "align_items": null,
      "align_self": null,
      "border": null,
      "bottom": null,
      "display": null,
      "flex": null,
      "flex_flow": null,
      "grid_area": null,
      "grid_auto_columns": null,
      "grid_auto_flow": null,
      "grid_auto_rows": null,
      "grid_column": null,
      "grid_gap": null,
      "grid_row": null,
      "grid_template_areas": null,
      "grid_template_columns": null,
      "grid_template_rows": null,
      "height": null,
      "justify_content": null,
      "justify_items": null,
      "left": null,
      "margin": null,
      "max_height": null,
      "max_width": null,
      "min_height": null,
      "min_width": null,
      "object_fit": null,
      "object_position": null,
      "order": null,
      "overflow": null,
      "overflow_x": null,
      "overflow_y": null,
      "padding": null,
      "right": null,
      "top": null,
      "visibility": null,
      "width": null
     }
    },
    "3cb7f4dded0d41428e50d6b93afa2d01": {
     "model_module": "@jupyter-widgets/controls",
     "model_module_version": "1.5.0",
     "model_name": "ProgressStyleModel",
     "state": {
      "_model_module": "@jupyter-widgets/controls",
      "_model_module_version": "1.5.0",
      "_model_name": "ProgressStyleModel",
      "_view_count": null,
      "_view_module": "@jupyter-widgets/base",
      "_view_module_version": "1.2.0",
      "_view_name": "StyleView",
      "bar_color": null,
      "description_width": ""
     }
    },
    "40f8d0a0470d49bdb4f2785dc124d443": {
     "model_module": "@jupyter-widgets/controls",
     "model_module_version": "1.5.0",
     "model_name": "HBoxModel",
     "state": {
      "_dom_classes": [],
      "_model_module": "@jupyter-widgets/controls",
      "_model_module_version": "1.5.0",
      "_model_name": "HBoxModel",
      "_view_count": null,
      "_view_module": "@jupyter-widgets/controls",
      "_view_module_version": "1.5.0",
      "_view_name": "HBoxView",
      "box_style": "",
      "children": [
       "IPY_MODEL_f90979b8be4a43779430e5cea7288727",
       "IPY_MODEL_5e99c459fc354755b9f4ad0f8481e267",
       "IPY_MODEL_bc9121efeef549f29ebb969cd9a0ee50"
      ],
      "layout": "IPY_MODEL_b85d11c2ef524f2ab64165317eafc894"
     }
    },
    "439a817d00e0407695253db53dec23f3": {
     "model_module": "@jupyter-widgets/controls",
     "model_module_version": "1.5.0",
     "model_name": "DescriptionStyleModel",
     "state": {
      "_model_module": "@jupyter-widgets/controls",
      "_model_module_version": "1.5.0",
      "_model_name": "DescriptionStyleModel",
      "_view_count": null,
      "_view_module": "@jupyter-widgets/base",
      "_view_module_version": "1.2.0",
      "_view_name": "StyleView",
      "description_width": ""
     }
    },
    "4701918269384dd5892b945f0ee39011": {
     "model_module": "@jupyter-widgets/controls",
     "model_module_version": "1.5.0",
     "model_name": "DescriptionStyleModel",
     "state": {
      "_model_module": "@jupyter-widgets/controls",
      "_model_module_version": "1.5.0",
      "_model_name": "DescriptionStyleModel",
      "_view_count": null,
      "_view_module": "@jupyter-widgets/base",
      "_view_module_version": "1.2.0",
      "_view_name": "StyleView",
      "description_width": ""
     }
    },
    "4f06163418b14cec90edef8f9b080613": {
     "model_module": "@jupyter-widgets/base",
     "model_module_version": "1.2.0",
     "model_name": "LayoutModel",
     "state": {
      "_model_module": "@jupyter-widgets/base",
      "_model_module_version": "1.2.0",
      "_model_name": "LayoutModel",
      "_view_count": null,
      "_view_module": "@jupyter-widgets/base",
      "_view_module_version": "1.2.0",
      "_view_name": "LayoutView",
      "align_content": null,
      "align_items": null,
      "align_self": null,
      "border": null,
      "bottom": null,
      "display": null,
      "flex": null,
      "flex_flow": null,
      "grid_area": null,
      "grid_auto_columns": null,
      "grid_auto_flow": null,
      "grid_auto_rows": null,
      "grid_column": null,
      "grid_gap": null,
      "grid_row": null,
      "grid_template_areas": null,
      "grid_template_columns": null,
      "grid_template_rows": null,
      "height": null,
      "justify_content": null,
      "justify_items": null,
      "left": null,
      "margin": null,
      "max_height": null,
      "max_width": null,
      "min_height": null,
      "min_width": null,
      "object_fit": null,
      "object_position": null,
      "order": null,
      "overflow": null,
      "overflow_x": null,
      "overflow_y": null,
      "padding": null,
      "right": null,
      "top": null,
      "visibility": null,
      "width": null
     }
    },
    "50aeba9181d0413295d0d447891a3c39": {
     "model_module": "@jupyter-widgets/base",
     "model_module_version": "1.2.0",
     "model_name": "LayoutModel",
     "state": {
      "_model_module": "@jupyter-widgets/base",
      "_model_module_version": "1.2.0",
      "_model_name": "LayoutModel",
      "_view_count": null,
      "_view_module": "@jupyter-widgets/base",
      "_view_module_version": "1.2.0",
      "_view_name": "LayoutView",
      "align_content": null,
      "align_items": null,
      "align_self": null,
      "border": null,
      "bottom": null,
      "display": null,
      "flex": null,
      "flex_flow": null,
      "grid_area": null,
      "grid_auto_columns": null,
      "grid_auto_flow": null,
      "grid_auto_rows": null,
      "grid_column": null,
      "grid_gap": null,
      "grid_row": null,
      "grid_template_areas": null,
      "grid_template_columns": null,
      "grid_template_rows": null,
      "height": null,
      "justify_content": null,
      "justify_items": null,
      "left": null,
      "margin": null,
      "max_height": null,
      "max_width": null,
      "min_height": null,
      "min_width": null,
      "object_fit": null,
      "object_position": null,
      "order": null,
      "overflow": null,
      "overflow_x": null,
      "overflow_y": null,
      "padding": null,
      "right": null,
      "top": null,
      "visibility": null,
      "width": null
     }
    },
    "5565f8975be347baad260928e03ed3d9": {
     "model_module": "@jupyter-widgets/base",
     "model_module_version": "1.2.0",
     "model_name": "LayoutModel",
     "state": {
      "_model_module": "@jupyter-widgets/base",
      "_model_module_version": "1.2.0",
      "_model_name": "LayoutModel",
      "_view_count": null,
      "_view_module": "@jupyter-widgets/base",
      "_view_module_version": "1.2.0",
      "_view_name": "LayoutView",
      "align_content": null,
      "align_items": null,
      "align_self": null,
      "border": null,
      "bottom": null,
      "display": null,
      "flex": null,
      "flex_flow": null,
      "grid_area": null,
      "grid_auto_columns": null,
      "grid_auto_flow": null,
      "grid_auto_rows": null,
      "grid_column": null,
      "grid_gap": null,
      "grid_row": null,
      "grid_template_areas": null,
      "grid_template_columns": null,
      "grid_template_rows": null,
      "height": null,
      "justify_content": null,
      "justify_items": null,
      "left": null,
      "margin": null,
      "max_height": null,
      "max_width": null,
      "min_height": null,
      "min_width": null,
      "object_fit": null,
      "object_position": null,
      "order": null,
      "overflow": null,
      "overflow_x": null,
      "overflow_y": null,
      "padding": null,
      "right": null,
      "top": null,
      "visibility": null,
      "width": null
     }
    },
    "573c857c81d0418796c4d987b2f87f8e": {
     "model_module": "@jupyter-widgets/controls",
     "model_module_version": "1.5.0",
     "model_name": "FloatProgressModel",
     "state": {
      "_dom_classes": [],
      "_model_module": "@jupyter-widgets/controls",
      "_model_module_version": "1.5.0",
      "_model_name": "FloatProgressModel",
      "_view_count": null,
      "_view_module": "@jupyter-widgets/controls",
      "_view_module_version": "1.5.0",
      "_view_name": "ProgressView",
      "bar_style": "success",
      "description": "",
      "description_tooltip": null,
      "layout": "IPY_MODEL_c3a70f03952a4c52bc2d7b734447adce",
      "max": 5000,
      "min": 0,
      "orientation": "horizontal",
      "style": "IPY_MODEL_edd564aec15d43319e0d78ebce4cf165",
      "value": 5000
     }
    },
    "58fbf66014714af0a1b1c558666b69b0": {
     "model_module": "@jupyter-widgets/controls",
     "model_module_version": "1.5.0",
     "model_name": "DescriptionStyleModel",
     "state": {
      "_model_module": "@jupyter-widgets/controls",
      "_model_module_version": "1.5.0",
      "_model_name": "DescriptionStyleModel",
      "_view_count": null,
      "_view_module": "@jupyter-widgets/base",
      "_view_module_version": "1.2.0",
      "_view_name": "StyleView",
      "description_width": ""
     }
    },
    "5d13613333a0449bb416e211ac95b269": {
     "model_module": "@jupyter-widgets/controls",
     "model_module_version": "1.5.0",
     "model_name": "ProgressStyleModel",
     "state": {
      "_model_module": "@jupyter-widgets/controls",
      "_model_module_version": "1.5.0",
      "_model_name": "ProgressStyleModel",
      "_view_count": null,
      "_view_module": "@jupyter-widgets/base",
      "_view_module_version": "1.2.0",
      "_view_name": "StyleView",
      "bar_color": null,
      "description_width": ""
     }
    },
    "5e99c459fc354755b9f4ad0f8481e267": {
     "model_module": "@jupyter-widgets/controls",
     "model_module_version": "1.5.0",
     "model_name": "FloatProgressModel",
     "state": {
      "_dom_classes": [],
      "_model_module": "@jupyter-widgets/controls",
      "_model_module_version": "1.5.0",
      "_model_name": "FloatProgressModel",
      "_view_count": null,
      "_view_module": "@jupyter-widgets/controls",
      "_view_module_version": "1.5.0",
      "_view_name": "ProgressView",
      "bar_style": "success",
      "description": "",
      "description_tooltip": null,
      "layout": "IPY_MODEL_c79b9c850da94009943882b8a9f273ca",
      "max": 5000,
      "min": 0,
      "orientation": "horizontal",
      "style": "IPY_MODEL_afc02a36f2a94b22991067fcd5172cf9",
      "value": 5000
     }
    },
    "5f353c9eb33949d8b0caad655378b9aa": {
     "model_module": "@jupyter-widgets/controls",
     "model_module_version": "1.5.0",
     "model_name": "HTMLModel",
     "state": {
      "_dom_classes": [],
      "_model_module": "@jupyter-widgets/controls",
      "_model_module_version": "1.5.0",
      "_model_name": "HTMLModel",
      "_view_count": null,
      "_view_module": "@jupyter-widgets/controls",
      "_view_module_version": "1.5.0",
      "_view_name": "HTMLView",
      "description": "",
      "description_tooltip": null,
      "layout": "IPY_MODEL_88271637e47c45d9a3b0ede869f520c5",
      "placeholder": "​",
      "style": "IPY_MODEL_30427ccbd62a4ff6907b4c37a1fc933a",
      "value": "100%"
     }
    },
    "6218c10230ce4e42be7bd83169775212": {
     "model_module": "@jupyter-widgets/base",
     "model_module_version": "1.2.0",
     "model_name": "LayoutModel",
     "state": {
      "_model_module": "@jupyter-widgets/base",
      "_model_module_version": "1.2.0",
      "_model_name": "LayoutModel",
      "_view_count": null,
      "_view_module": "@jupyter-widgets/base",
      "_view_module_version": "1.2.0",
      "_view_name": "LayoutView",
      "align_content": null,
      "align_items": null,
      "align_self": null,
      "border": null,
      "bottom": null,
      "display": null,
      "flex": null,
      "flex_flow": null,
      "grid_area": null,
      "grid_auto_columns": null,
      "grid_auto_flow": null,
      "grid_auto_rows": null,
      "grid_column": null,
      "grid_gap": null,
      "grid_row": null,
      "grid_template_areas": null,
      "grid_template_columns": null,
      "grid_template_rows": null,
      "height": null,
      "justify_content": null,
      "justify_items": null,
      "left": null,
      "margin": null,
      "max_height": null,
      "max_width": null,
      "min_height": null,
      "min_width": null,
      "object_fit": null,
      "object_position": null,
      "order": null,
      "overflow": null,
      "overflow_x": null,
      "overflow_y": null,
      "padding": null,
      "right": null,
      "top": null,
      "visibility": null,
      "width": null
     }
    },
    "67a2a4a3150d45fcb43cdcb84b069037": {
     "model_module": "@jupyter-widgets/base",
     "model_module_version": "1.2.0",
     "model_name": "LayoutModel",
     "state": {
      "_model_module": "@jupyter-widgets/base",
      "_model_module_version": "1.2.0",
      "_model_name": "LayoutModel",
      "_view_count": null,
      "_view_module": "@jupyter-widgets/base",
      "_view_module_version": "1.2.0",
      "_view_name": "LayoutView",
      "align_content": null,
      "align_items": null,
      "align_self": null,
      "border": null,
      "bottom": null,
      "display": null,
      "flex": null,
      "flex_flow": null,
      "grid_area": null,
      "grid_auto_columns": null,
      "grid_auto_flow": null,
      "grid_auto_rows": null,
      "grid_column": null,
      "grid_gap": null,
      "grid_row": null,
      "grid_template_areas": null,
      "grid_template_columns": null,
      "grid_template_rows": null,
      "height": null,
      "justify_content": null,
      "justify_items": null,
      "left": null,
      "margin": null,
      "max_height": null,
      "max_width": null,
      "min_height": null,
      "min_width": null,
      "object_fit": null,
      "object_position": null,
      "order": null,
      "overflow": null,
      "overflow_x": null,
      "overflow_y": null,
      "padding": null,
      "right": null,
      "top": null,
      "visibility": null,
      "width": null
     }
    },
    "6ef4b6589680422a9a698d2711029f38": {
     "model_module": "@jupyter-widgets/controls",
     "model_module_version": "1.5.0",
     "model_name": "ProgressStyleModel",
     "state": {
      "_model_module": "@jupyter-widgets/controls",
      "_model_module_version": "1.5.0",
      "_model_name": "ProgressStyleModel",
      "_view_count": null,
      "_view_module": "@jupyter-widgets/base",
      "_view_module_version": "1.2.0",
      "_view_name": "StyleView",
      "bar_color": null,
      "description_width": ""
     }
    },
    "704689165d8c4ba986b306538e078349": {
     "model_module": "@jupyter-widgets/controls",
     "model_module_version": "1.5.0",
     "model_name": "DescriptionStyleModel",
     "state": {
      "_model_module": "@jupyter-widgets/controls",
      "_model_module_version": "1.5.0",
      "_model_name": "DescriptionStyleModel",
      "_view_count": null,
      "_view_module": "@jupyter-widgets/base",
      "_view_module_version": "1.2.0",
      "_view_name": "StyleView",
      "description_width": ""
     }
    },
    "7452ec72981041efa26df340beb722fb": {
     "model_module": "@jupyter-widgets/controls",
     "model_module_version": "1.5.0",
     "model_name": "HTMLModel",
     "state": {
      "_dom_classes": [],
      "_model_module": "@jupyter-widgets/controls",
      "_model_module_version": "1.5.0",
      "_model_name": "HTMLModel",
      "_view_count": null,
      "_view_module": "@jupyter-widgets/controls",
      "_view_module_version": "1.5.0",
      "_view_name": "HTMLView",
      "description": "",
      "description_tooltip": null,
      "layout": "IPY_MODEL_8e125f1a840f4d419e9020966e4effcb",
      "placeholder": "​",
      "style": "IPY_MODEL_dfc8af31718a4148bd8cf6effb6869ac",
      "value": " 50000/50000 [00:00&lt;00:00, 657402.06it/s]"
     }
    },
    "7781cb005a00483f8a7fcc966f83e2f2": {
     "model_module": "@jupyter-widgets/controls",
     "model_module_version": "1.5.0",
     "model_name": "DescriptionStyleModel",
     "state": {
      "_model_module": "@jupyter-widgets/controls",
      "_model_module_version": "1.5.0",
      "_model_name": "DescriptionStyleModel",
      "_view_count": null,
      "_view_module": "@jupyter-widgets/base",
      "_view_module_version": "1.2.0",
      "_view_name": "StyleView",
      "description_width": ""
     }
    },
    "85b07c09f80941009474b4df8d7e6d27": {
     "model_module": "@jupyter-widgets/controls",
     "model_module_version": "1.5.0",
     "model_name": "HBoxModel",
     "state": {
      "_dom_classes": [],
      "_model_module": "@jupyter-widgets/controls",
      "_model_module_version": "1.5.0",
      "_model_name": "HBoxModel",
      "_view_count": null,
      "_view_module": "@jupyter-widgets/controls",
      "_view_module_version": "1.5.0",
      "_view_name": "HBoxView",
      "box_style": "",
      "children": [
       "IPY_MODEL_5f353c9eb33949d8b0caad655378b9aa",
       "IPY_MODEL_0e57440fbeff41718045090cddd9534f",
       "IPY_MODEL_dbaff71d913f4f06836784df06605c99"
      ],
      "layout": "IPY_MODEL_c57cdfaa85724078aa36f61dee888c17"
     }
    },
    "87434c11e470477fbef900d24f326d7c": {
     "model_module": "@jupyter-widgets/controls",
     "model_module_version": "1.5.0",
     "model_name": "DescriptionStyleModel",
     "state": {
      "_model_module": "@jupyter-widgets/controls",
      "_model_module_version": "1.5.0",
      "_model_name": "DescriptionStyleModel",
      "_view_count": null,
      "_view_module": "@jupyter-widgets/base",
      "_view_module_version": "1.2.0",
      "_view_name": "StyleView",
      "description_width": ""
     }
    },
    "88271637e47c45d9a3b0ede869f520c5": {
     "model_module": "@jupyter-widgets/base",
     "model_module_version": "1.2.0",
     "model_name": "LayoutModel",
     "state": {
      "_model_module": "@jupyter-widgets/base",
      "_model_module_version": "1.2.0",
      "_model_name": "LayoutModel",
      "_view_count": null,
      "_view_module": "@jupyter-widgets/base",
      "_view_module_version": "1.2.0",
      "_view_name": "LayoutView",
      "align_content": null,
      "align_items": null,
      "align_self": null,
      "border": null,
      "bottom": null,
      "display": null,
      "flex": null,
      "flex_flow": null,
      "grid_area": null,
      "grid_auto_columns": null,
      "grid_auto_flow": null,
      "grid_auto_rows": null,
      "grid_column": null,
      "grid_gap": null,
      "grid_row": null,
      "grid_template_areas": null,
      "grid_template_columns": null,
      "grid_template_rows": null,
      "height": null,
      "justify_content": null,
      "justify_items": null,
      "left": null,
      "margin": null,
      "max_height": null,
      "max_width": null,
      "min_height": null,
      "min_width": null,
      "object_fit": null,
      "object_position": null,
      "order": null,
      "overflow": null,
      "overflow_x": null,
      "overflow_y": null,
      "padding": null,
      "right": null,
      "top": null,
      "visibility": null,
      "width": null
     }
    },
    "8b4aed1d963b404197390224b80b49a3": {
     "model_module": "@jupyter-widgets/base",
     "model_module_version": "1.2.0",
     "model_name": "LayoutModel",
     "state": {
      "_model_module": "@jupyter-widgets/base",
      "_model_module_version": "1.2.0",
      "_model_name": "LayoutModel",
      "_view_count": null,
      "_view_module": "@jupyter-widgets/base",
      "_view_module_version": "1.2.0",
      "_view_name": "LayoutView",
      "align_content": null,
      "align_items": null,
      "align_self": null,
      "border": null,
      "bottom": null,
      "display": null,
      "flex": null,
      "flex_flow": null,
      "grid_area": null,
      "grid_auto_columns": null,
      "grid_auto_flow": null,
      "grid_auto_rows": null,
      "grid_column": null,
      "grid_gap": null,
      "grid_row": null,
      "grid_template_areas": null,
      "grid_template_columns": null,
      "grid_template_rows": null,
      "height": null,
      "justify_content": null,
      "justify_items": null,
      "left": null,
      "margin": null,
      "max_height": null,
      "max_width": null,
      "min_height": null,
      "min_width": null,
      "object_fit": null,
      "object_position": null,
      "order": null,
      "overflow": null,
      "overflow_x": null,
      "overflow_y": null,
      "padding": null,
      "right": null,
      "top": null,
      "visibility": null,
      "width": null
     }
    },
    "8e125f1a840f4d419e9020966e4effcb": {
     "model_module": "@jupyter-widgets/base",
     "model_module_version": "1.2.0",
     "model_name": "LayoutModel",
     "state": {
      "_model_module": "@jupyter-widgets/base",
      "_model_module_version": "1.2.0",
      "_model_name": "LayoutModel",
      "_view_count": null,
      "_view_module": "@jupyter-widgets/base",
      "_view_module_version": "1.2.0",
      "_view_name": "LayoutView",
      "align_content": null,
      "align_items": null,
      "align_self": null,
      "border": null,
      "bottom": null,
      "display": null,
      "flex": null,
      "flex_flow": null,
      "grid_area": null,
      "grid_auto_columns": null,
      "grid_auto_flow": null,
      "grid_auto_rows": null,
      "grid_column": null,
      "grid_gap": null,
      "grid_row": null,
      "grid_template_areas": null,
      "grid_template_columns": null,
      "grid_template_rows": null,
      "height": null,
      "justify_content": null,
      "justify_items": null,
      "left": null,
      "margin": null,
      "max_height": null,
      "max_width": null,
      "min_height": null,
      "min_width": null,
      "object_fit": null,
      "object_position": null,
      "order": null,
      "overflow": null,
      "overflow_x": null,
      "overflow_y": null,
      "padding": null,
      "right": null,
      "top": null,
      "visibility": null,
      "width": null
     }
    },
    "92a77556a9214ba48ed39ee9b12b3dad": {
     "model_module": "@jupyter-widgets/controls",
     "model_module_version": "1.5.0",
     "model_name": "FloatProgressModel",
     "state": {
      "_dom_classes": [],
      "_model_module": "@jupyter-widgets/controls",
      "_model_module_version": "1.5.0",
      "_model_name": "FloatProgressModel",
      "_view_count": null,
      "_view_module": "@jupyter-widgets/controls",
      "_view_module_version": "1.5.0",
      "_view_name": "ProgressView",
      "bar_style": "success",
      "description": "",
      "description_tooltip": null,
      "layout": "IPY_MODEL_1de04f20114b49678ba91fb5d907e081",
      "max": 10000,
      "min": 0,
      "orientation": "horizontal",
      "style": "IPY_MODEL_2a9221dff64e4fa5ba4e5e9e85e26a8a",
      "value": 10000
     }
    },
    "95899c30bac942bcb70fc0f4e19bce17": {
     "model_module": "@jupyter-widgets/controls",
     "model_module_version": "1.5.0",
     "model_name": "HTMLModel",
     "state": {
      "_dom_classes": [],
      "_model_module": "@jupyter-widgets/controls",
      "_model_module_version": "1.5.0",
      "_model_name": "HTMLModel",
      "_view_count": null,
      "_view_module": "@jupyter-widgets/controls",
      "_view_module_version": "1.5.0",
      "_view_name": "HTMLView",
      "description": "",
      "description_tooltip": null,
      "layout": "IPY_MODEL_c75799bbd30a4690b75414b133e34edb",
      "placeholder": "​",
      "style": "IPY_MODEL_704689165d8c4ba986b306538e078349",
      "value": " 10000/10000 [00:00&lt;00:00, 42666.73it/s]"
     }
    },
    "95d3c9d2cdc842db9a2425c5030342b4": {
     "model_module": "@jupyter-widgets/controls",
     "model_module_version": "1.5.0",
     "model_name": "DescriptionStyleModel",
     "state": {
      "_model_module": "@jupyter-widgets/controls",
      "_model_module_version": "1.5.0",
      "_model_name": "DescriptionStyleModel",
      "_view_count": null,
      "_view_module": "@jupyter-widgets/base",
      "_view_module_version": "1.2.0",
      "_view_name": "StyleView",
      "description_width": ""
     }
    },
    "98adb75293ed40fd8e141529e00f4143": {
     "model_module": "@jupyter-widgets/controls",
     "model_module_version": "1.5.0",
     "model_name": "HTMLModel",
     "state": {
      "_dom_classes": [],
      "_model_module": "@jupyter-widgets/controls",
      "_model_module_version": "1.5.0",
      "_model_name": "HTMLModel",
      "_view_count": null,
      "_view_module": "@jupyter-widgets/controls",
      "_view_module_version": "1.5.0",
      "_view_name": "HTMLView",
      "description": "",
      "description_tooltip": null,
      "layout": "IPY_MODEL_0996dfcdcb18483298ba39180fb7669f",
      "placeholder": "​",
      "style": "IPY_MODEL_95d3c9d2cdc842db9a2425c5030342b4",
      "value": "100%"
     }
    },
    "9b797752087746fda6047f6eb4f5354c": {
     "model_module": "@jupyter-widgets/base",
     "model_module_version": "1.2.0",
     "model_name": "LayoutModel",
     "state": {
      "_model_module": "@jupyter-widgets/base",
      "_model_module_version": "1.2.0",
      "_model_name": "LayoutModel",
      "_view_count": null,
      "_view_module": "@jupyter-widgets/base",
      "_view_module_version": "1.2.0",
      "_view_name": "LayoutView",
      "align_content": null,
      "align_items": null,
      "align_self": null,
      "border": null,
      "bottom": null,
      "display": null,
      "flex": null,
      "flex_flow": null,
      "grid_area": null,
      "grid_auto_columns": null,
      "grid_auto_flow": null,
      "grid_auto_rows": null,
      "grid_column": null,
      "grid_gap": null,
      "grid_row": null,
      "grid_template_areas": null,
      "grid_template_columns": null,
      "grid_template_rows": null,
      "height": null,
      "justify_content": null,
      "justify_items": null,
      "left": null,
      "margin": null,
      "max_height": null,
      "max_width": null,
      "min_height": null,
      "min_width": null,
      "object_fit": null,
      "object_position": null,
      "order": null,
      "overflow": null,
      "overflow_x": null,
      "overflow_y": null,
      "padding": null,
      "right": null,
      "top": null,
      "visibility": null,
      "width": null
     }
    },
    "9e92aabe14484229bd5955a0b97f22ba": {
     "model_module": "@jupyter-widgets/controls",
     "model_module_version": "1.5.0",
     "model_name": "HTMLModel",
     "state": {
      "_dom_classes": [],
      "_model_module": "@jupyter-widgets/controls",
      "_model_module_version": "1.5.0",
      "_model_name": "HTMLModel",
      "_view_count": null,
      "_view_module": "@jupyter-widgets/controls",
      "_view_module_version": "1.5.0",
      "_view_name": "HTMLView",
      "description": "",
      "description_tooltip": null,
      "layout": "IPY_MODEL_32d794267f644768ab351d4eca81922c",
      "placeholder": "​",
      "style": "IPY_MODEL_58fbf66014714af0a1b1c558666b69b0",
      "value": "100%"
     }
    },
    "a008d5cb69f74dec969d6cd2a4539af9": {
     "model_module": "@jupyter-widgets/base",
     "model_module_version": "1.2.0",
     "model_name": "LayoutModel",
     "state": {
      "_model_module": "@jupyter-widgets/base",
      "_model_module_version": "1.2.0",
      "_model_name": "LayoutModel",
      "_view_count": null,
      "_view_module": "@jupyter-widgets/base",
      "_view_module_version": "1.2.0",
      "_view_name": "LayoutView",
      "align_content": null,
      "align_items": null,
      "align_self": null,
      "border": null,
      "bottom": null,
      "display": null,
      "flex": null,
      "flex_flow": null,
      "grid_area": null,
      "grid_auto_columns": null,
      "grid_auto_flow": null,
      "grid_auto_rows": null,
      "grid_column": null,
      "grid_gap": null,
      "grid_row": null,
      "grid_template_areas": null,
      "grid_template_columns": null,
      "grid_template_rows": null,
      "height": null,
      "justify_content": null,
      "justify_items": null,
      "left": null,
      "margin": null,
      "max_height": null,
      "max_width": null,
      "min_height": null,
      "min_width": null,
      "object_fit": null,
      "object_position": null,
      "order": null,
      "overflow": null,
      "overflow_x": null,
      "overflow_y": null,
      "padding": null,
      "right": null,
      "top": null,
      "visibility": null,
      "width": null
     }
    },
    "a306d3c66e3f4f688705434e96a34819": {
     "model_module": "@jupyter-widgets/controls",
     "model_module_version": "1.5.0",
     "model_name": "HTMLModel",
     "state": {
      "_dom_classes": [],
      "_model_module": "@jupyter-widgets/controls",
      "_model_module_version": "1.5.0",
      "_model_name": "HTMLModel",
      "_view_count": null,
      "_view_module": "@jupyter-widgets/controls",
      "_view_module_version": "1.5.0",
      "_view_name": "HTMLView",
      "description": "",
      "description_tooltip": null,
      "layout": "IPY_MODEL_50aeba9181d0413295d0d447891a3c39",
      "placeholder": "​",
      "style": "IPY_MODEL_87434c11e470477fbef900d24f326d7c",
      "value": " 5000/5000 [00:00&lt;00:00, 95868.93it/s]"
     }
    },
    "afc02a36f2a94b22991067fcd5172cf9": {
     "model_module": "@jupyter-widgets/controls",
     "model_module_version": "1.5.0",
     "model_name": "ProgressStyleModel",
     "state": {
      "_model_module": "@jupyter-widgets/controls",
      "_model_module_version": "1.5.0",
      "_model_name": "ProgressStyleModel",
      "_view_count": null,
      "_view_module": "@jupyter-widgets/base",
      "_view_module_version": "1.2.0",
      "_view_name": "StyleView",
      "bar_color": null,
      "description_width": ""
     }
    },
    "b7b46dab9f0b481592d0dbfeb182d05e": {
     "model_module": "@jupyter-widgets/controls",
     "model_module_version": "1.5.0",
     "model_name": "DescriptionStyleModel",
     "state": {
      "_model_module": "@jupyter-widgets/controls",
      "_model_module_version": "1.5.0",
      "_model_name": "DescriptionStyleModel",
      "_view_count": null,
      "_view_module": "@jupyter-widgets/base",
      "_view_module_version": "1.2.0",
      "_view_name": "StyleView",
      "description_width": ""
     }
    },
    "b85d11c2ef524f2ab64165317eafc894": {
     "model_module": "@jupyter-widgets/base",
     "model_module_version": "1.2.0",
     "model_name": "LayoutModel",
     "state": {
      "_model_module": "@jupyter-widgets/base",
      "_model_module_version": "1.2.0",
      "_model_name": "LayoutModel",
      "_view_count": null,
      "_view_module": "@jupyter-widgets/base",
      "_view_module_version": "1.2.0",
      "_view_name": "LayoutView",
      "align_content": null,
      "align_items": null,
      "align_self": null,
      "border": null,
      "bottom": null,
      "display": null,
      "flex": null,
      "flex_flow": null,
      "grid_area": null,
      "grid_auto_columns": null,
      "grid_auto_flow": null,
      "grid_auto_rows": null,
      "grid_column": null,
      "grid_gap": null,
      "grid_row": null,
      "grid_template_areas": null,
      "grid_template_columns": null,
      "grid_template_rows": null,
      "height": null,
      "justify_content": null,
      "justify_items": null,
      "left": null,
      "margin": null,
      "max_height": null,
      "max_width": null,
      "min_height": null,
      "min_width": null,
      "object_fit": null,
      "object_position": null,
      "order": null,
      "overflow": null,
      "overflow_x": null,
      "overflow_y": null,
      "padding": null,
      "right": null,
      "top": null,
      "visibility": null,
      "width": null
     }
    },
    "bc9121efeef549f29ebb969cd9a0ee50": {
     "model_module": "@jupyter-widgets/controls",
     "model_module_version": "1.5.0",
     "model_name": "HTMLModel",
     "state": {
      "_dom_classes": [],
      "_model_module": "@jupyter-widgets/controls",
      "_model_module_version": "1.5.0",
      "_model_name": "HTMLModel",
      "_view_count": null,
      "_view_module": "@jupyter-widgets/controls",
      "_view_module_version": "1.5.0",
      "_view_name": "HTMLView",
      "description": "",
      "description_tooltip": null,
      "layout": "IPY_MODEL_c27b2495a0cf4cc8b93d4ac3bafdb75d",
      "placeholder": "​",
      "style": "IPY_MODEL_c853a48b5afb4a5ab53006810b8e701f",
      "value": " 5000/5000 [00:00&lt;00:00, 55710.42it/s]"
     }
    },
    "bd883f2548a945149d0d5ad3dea7e2b0": {
     "model_module": "@jupyter-widgets/base",
     "model_module_version": "1.2.0",
     "model_name": "LayoutModel",
     "state": {
      "_model_module": "@jupyter-widgets/base",
      "_model_module_version": "1.2.0",
      "_model_name": "LayoutModel",
      "_view_count": null,
      "_view_module": "@jupyter-widgets/base",
      "_view_module_version": "1.2.0",
      "_view_name": "LayoutView",
      "align_content": null,
      "align_items": null,
      "align_self": null,
      "border": null,
      "bottom": null,
      "display": null,
      "flex": null,
      "flex_flow": null,
      "grid_area": null,
      "grid_auto_columns": null,
      "grid_auto_flow": null,
      "grid_auto_rows": null,
      "grid_column": null,
      "grid_gap": null,
      "grid_row": null,
      "grid_template_areas": null,
      "grid_template_columns": null,
      "grid_template_rows": null,
      "height": null,
      "justify_content": null,
      "justify_items": null,
      "left": null,
      "margin": null,
      "max_height": null,
      "max_width": null,
      "min_height": null,
      "min_width": null,
      "object_fit": null,
      "object_position": null,
      "order": null,
      "overflow": null,
      "overflow_x": null,
      "overflow_y": null,
      "padding": null,
      "right": null,
      "top": null,
      "visibility": null,
      "width": null
     }
    },
    "c27b2495a0cf4cc8b93d4ac3bafdb75d": {
     "model_module": "@jupyter-widgets/base",
     "model_module_version": "1.2.0",
     "model_name": "LayoutModel",
     "state": {
      "_model_module": "@jupyter-widgets/base",
      "_model_module_version": "1.2.0",
      "_model_name": "LayoutModel",
      "_view_count": null,
      "_view_module": "@jupyter-widgets/base",
      "_view_module_version": "1.2.0",
      "_view_name": "LayoutView",
      "align_content": null,
      "align_items": null,
      "align_self": null,
      "border": null,
      "bottom": null,
      "display": null,
      "flex": null,
      "flex_flow": null,
      "grid_area": null,
      "grid_auto_columns": null,
      "grid_auto_flow": null,
      "grid_auto_rows": null,
      "grid_column": null,
      "grid_gap": null,
      "grid_row": null,
      "grid_template_areas": null,
      "grid_template_columns": null,
      "grid_template_rows": null,
      "height": null,
      "justify_content": null,
      "justify_items": null,
      "left": null,
      "margin": null,
      "max_height": null,
      "max_width": null,
      "min_height": null,
      "min_width": null,
      "object_fit": null,
      "object_position": null,
      "order": null,
      "overflow": null,
      "overflow_x": null,
      "overflow_y": null,
      "padding": null,
      "right": null,
      "top": null,
      "visibility": null,
      "width": null
     }
    },
    "c3a70f03952a4c52bc2d7b734447adce": {
     "model_module": "@jupyter-widgets/base",
     "model_module_version": "1.2.0",
     "model_name": "LayoutModel",
     "state": {
      "_model_module": "@jupyter-widgets/base",
      "_model_module_version": "1.2.0",
      "_model_name": "LayoutModel",
      "_view_count": null,
      "_view_module": "@jupyter-widgets/base",
      "_view_module_version": "1.2.0",
      "_view_name": "LayoutView",
      "align_content": null,
      "align_items": null,
      "align_self": null,
      "border": null,
      "bottom": null,
      "display": null,
      "flex": null,
      "flex_flow": null,
      "grid_area": null,
      "grid_auto_columns": null,
      "grid_auto_flow": null,
      "grid_auto_rows": null,
      "grid_column": null,
      "grid_gap": null,
      "grid_row": null,
      "grid_template_areas": null,
      "grid_template_columns": null,
      "grid_template_rows": null,
      "height": null,
      "justify_content": null,
      "justify_items": null,
      "left": null,
      "margin": null,
      "max_height": null,
      "max_width": null,
      "min_height": null,
      "min_width": null,
      "object_fit": null,
      "object_position": null,
      "order": null,
      "overflow": null,
      "overflow_x": null,
      "overflow_y": null,
      "padding": null,
      "right": null,
      "top": null,
      "visibility": null,
      "width": null
     }
    },
    "c423c632961a452f8e8d01576ace00c7": {
     "model_module": "@jupyter-widgets/controls",
     "model_module_version": "1.5.0",
     "model_name": "HBoxModel",
     "state": {
      "_dom_classes": [],
      "_model_module": "@jupyter-widgets/controls",
      "_model_module_version": "1.5.0",
      "_model_name": "HBoxModel",
      "_view_count": null,
      "_view_module": "@jupyter-widgets/controls",
      "_view_module_version": "1.5.0",
      "_view_name": "HBoxView",
      "box_style": "",
      "children": [
       "IPY_MODEL_98adb75293ed40fd8e141529e00f4143",
       "IPY_MODEL_573c857c81d0418796c4d987b2f87f8e",
       "IPY_MODEL_a306d3c66e3f4f688705434e96a34819"
      ],
      "layout": "IPY_MODEL_ef0f34def50644fa9e393f1dc77feec8"
     }
    },
    "c57cdfaa85724078aa36f61dee888c17": {
     "model_module": "@jupyter-widgets/base",
     "model_module_version": "1.2.0",
     "model_name": "LayoutModel",
     "state": {
      "_model_module": "@jupyter-widgets/base",
      "_model_module_version": "1.2.0",
      "_model_name": "LayoutModel",
      "_view_count": null,
      "_view_module": "@jupyter-widgets/base",
      "_view_module_version": "1.2.0",
      "_view_name": "LayoutView",
      "align_content": null,
      "align_items": null,
      "align_self": null,
      "border": null,
      "bottom": null,
      "display": null,
      "flex": null,
      "flex_flow": null,
      "grid_area": null,
      "grid_auto_columns": null,
      "grid_auto_flow": null,
      "grid_auto_rows": null,
      "grid_column": null,
      "grid_gap": null,
      "grid_row": null,
      "grid_template_areas": null,
      "grid_template_columns": null,
      "grid_template_rows": null,
      "height": null,
      "justify_content": null,
      "justify_items": null,
      "left": null,
      "margin": null,
      "max_height": null,
      "max_width": null,
      "min_height": null,
      "min_width": null,
      "object_fit": null,
      "object_position": null,
      "order": null,
      "overflow": null,
      "overflow_x": null,
      "overflow_y": null,
      "padding": null,
      "right": null,
      "top": null,
      "visibility": null,
      "width": null
     }
    },
    "c75799bbd30a4690b75414b133e34edb": {
     "model_module": "@jupyter-widgets/base",
     "model_module_version": "1.2.0",
     "model_name": "LayoutModel",
     "state": {
      "_model_module": "@jupyter-widgets/base",
      "_model_module_version": "1.2.0",
      "_model_name": "LayoutModel",
      "_view_count": null,
      "_view_module": "@jupyter-widgets/base",
      "_view_module_version": "1.2.0",
      "_view_name": "LayoutView",
      "align_content": null,
      "align_items": null,
      "align_self": null,
      "border": null,
      "bottom": null,
      "display": null,
      "flex": null,
      "flex_flow": null,
      "grid_area": null,
      "grid_auto_columns": null,
      "grid_auto_flow": null,
      "grid_auto_rows": null,
      "grid_column": null,
      "grid_gap": null,
      "grid_row": null,
      "grid_template_areas": null,
      "grid_template_columns": null,
      "grid_template_rows": null,
      "height": null,
      "justify_content": null,
      "justify_items": null,
      "left": null,
      "margin": null,
      "max_height": null,
      "max_width": null,
      "min_height": null,
      "min_width": null,
      "object_fit": null,
      "object_position": null,
      "order": null,
      "overflow": null,
      "overflow_x": null,
      "overflow_y": null,
      "padding": null,
      "right": null,
      "top": null,
      "visibility": null,
      "width": null
     }
    },
    "c79b9c850da94009943882b8a9f273ca": {
     "model_module": "@jupyter-widgets/base",
     "model_module_version": "1.2.0",
     "model_name": "LayoutModel",
     "state": {
      "_model_module": "@jupyter-widgets/base",
      "_model_module_version": "1.2.0",
      "_model_name": "LayoutModel",
      "_view_count": null,
      "_view_module": "@jupyter-widgets/base",
      "_view_module_version": "1.2.0",
      "_view_name": "LayoutView",
      "align_content": null,
      "align_items": null,
      "align_self": null,
      "border": null,
      "bottom": null,
      "display": null,
      "flex": null,
      "flex_flow": null,
      "grid_area": null,
      "grid_auto_columns": null,
      "grid_auto_flow": null,
      "grid_auto_rows": null,
      "grid_column": null,
      "grid_gap": null,
      "grid_row": null,
      "grid_template_areas": null,
      "grid_template_columns": null,
      "grid_template_rows": null,
      "height": null,
      "justify_content": null,
      "justify_items": null,
      "left": null,
      "margin": null,
      "max_height": null,
      "max_width": null,
      "min_height": null,
      "min_width": null,
      "object_fit": null,
      "object_position": null,
      "order": null,
      "overflow": null,
      "overflow_x": null,
      "overflow_y": null,
      "padding": null,
      "right": null,
      "top": null,
      "visibility": null,
      "width": null
     }
    },
    "c853a48b5afb4a5ab53006810b8e701f": {
     "model_module": "@jupyter-widgets/controls",
     "model_module_version": "1.5.0",
     "model_name": "DescriptionStyleModel",
     "state": {
      "_model_module": "@jupyter-widgets/controls",
      "_model_module_version": "1.5.0",
      "_model_name": "DescriptionStyleModel",
      "_view_count": null,
      "_view_module": "@jupyter-widgets/base",
      "_view_module_version": "1.2.0",
      "_view_name": "StyleView",
      "description_width": ""
     }
    },
    "d3f9d930fecd4610b103b71fd55b37d5": {
     "model_module": "@jupyter-widgets/controls",
     "model_module_version": "1.5.0",
     "model_name": "HTMLModel",
     "state": {
      "_dom_classes": [],
      "_model_module": "@jupyter-widgets/controls",
      "_model_module_version": "1.5.0",
      "_model_name": "HTMLModel",
      "_view_count": null,
      "_view_module": "@jupyter-widgets/controls",
      "_view_module_version": "1.5.0",
      "_view_name": "HTMLView",
      "description": "",
      "description_tooltip": null,
      "layout": "IPY_MODEL_6218c10230ce4e42be7bd83169775212",
      "placeholder": "​",
      "style": "IPY_MODEL_b7b46dab9f0b481592d0dbfeb182d05e",
      "value": "100%"
     }
    },
    "d6825561931a41df84ae1a892f1d0c58": {
     "model_module": "@jupyter-widgets/controls",
     "model_module_version": "1.5.0",
     "model_name": "HBoxModel",
     "state": {
      "_dom_classes": [],
      "_model_module": "@jupyter-widgets/controls",
      "_model_module_version": "1.5.0",
      "_model_name": "HBoxModel",
      "_view_count": null,
      "_view_module": "@jupyter-widgets/controls",
      "_view_module_version": "1.5.0",
      "_view_name": "HBoxView",
      "box_style": "",
      "children": [
       "IPY_MODEL_0dac40511eae4365b98ba3c3b5242693",
       "IPY_MODEL_92a77556a9214ba48ed39ee9b12b3dad",
       "IPY_MODEL_95899c30bac942bcb70fc0f4e19bce17"
      ],
      "layout": "IPY_MODEL_f33111d8ee384da5b2623a0c10381e71"
     }
    },
    "dbaff71d913f4f06836784df06605c99": {
     "model_module": "@jupyter-widgets/controls",
     "model_module_version": "1.5.0",
     "model_name": "HTMLModel",
     "state": {
      "_dom_classes": [],
      "_model_module": "@jupyter-widgets/controls",
      "_model_module_version": "1.5.0",
      "_model_name": "HTMLModel",
      "_view_count": null,
      "_view_module": "@jupyter-widgets/controls",
      "_view_module_version": "1.5.0",
      "_view_name": "HTMLView",
      "description": "",
      "description_tooltip": null,
      "layout": "IPY_MODEL_1f4d7432aa054ca895143e56fcb40c73",
      "placeholder": "​",
      "style": "IPY_MODEL_4701918269384dd5892b945f0ee39011",
      "value": " 10000/10000 [00:00&lt;00:00, 248655.97it/s]"
     }
    },
    "dfc8af31718a4148bd8cf6effb6869ac": {
     "model_module": "@jupyter-widgets/controls",
     "model_module_version": "1.5.0",
     "model_name": "DescriptionStyleModel",
     "state": {
      "_model_module": "@jupyter-widgets/controls",
      "_model_module_version": "1.5.0",
      "_model_name": "DescriptionStyleModel",
      "_view_count": null,
      "_view_module": "@jupyter-widgets/base",
      "_view_module_version": "1.2.0",
      "_view_name": "StyleView",
      "description_width": ""
     }
    },
    "e105de1a8a2d4791a484cd2859bde06e": {
     "model_module": "@jupyter-widgets/base",
     "model_module_version": "1.2.0",
     "model_name": "LayoutModel",
     "state": {
      "_model_module": "@jupyter-widgets/base",
      "_model_module_version": "1.2.0",
      "_model_name": "LayoutModel",
      "_view_count": null,
      "_view_module": "@jupyter-widgets/base",
      "_view_module_version": "1.2.0",
      "_view_name": "LayoutView",
      "align_content": null,
      "align_items": null,
      "align_self": null,
      "border": null,
      "bottom": null,
      "display": null,
      "flex": null,
      "flex_flow": null,
      "grid_area": null,
      "grid_auto_columns": null,
      "grid_auto_flow": null,
      "grid_auto_rows": null,
      "grid_column": null,
      "grid_gap": null,
      "grid_row": null,
      "grid_template_areas": null,
      "grid_template_columns": null,
      "grid_template_rows": null,
      "height": null,
      "justify_content": null,
      "justify_items": null,
      "left": null,
      "margin": null,
      "max_height": null,
      "max_width": null,
      "min_height": null,
      "min_width": null,
      "object_fit": null,
      "object_position": null,
      "order": null,
      "overflow": null,
      "overflow_x": null,
      "overflow_y": null,
      "padding": null,
      "right": null,
      "top": null,
      "visibility": null,
      "width": null
     }
    },
    "ebe05613102d453391dcdf79c8b9627f": {
     "model_module": "@jupyter-widgets/controls",
     "model_module_version": "1.5.0",
     "model_name": "DescriptionStyleModel",
     "state": {
      "_model_module": "@jupyter-widgets/controls",
      "_model_module_version": "1.5.0",
      "_model_name": "DescriptionStyleModel",
      "_view_count": null,
      "_view_module": "@jupyter-widgets/base",
      "_view_module_version": "1.2.0",
      "_view_name": "StyleView",
      "description_width": ""
     }
    },
    "edd564aec15d43319e0d78ebce4cf165": {
     "model_module": "@jupyter-widgets/controls",
     "model_module_version": "1.5.0",
     "model_name": "ProgressStyleModel",
     "state": {
      "_model_module": "@jupyter-widgets/controls",
      "_model_module_version": "1.5.0",
      "_model_name": "ProgressStyleModel",
      "_view_count": null,
      "_view_module": "@jupyter-widgets/base",
      "_view_module_version": "1.2.0",
      "_view_name": "StyleView",
      "bar_color": null,
      "description_width": ""
     }
    },
    "ef0f34def50644fa9e393f1dc77feec8": {
     "model_module": "@jupyter-widgets/base",
     "model_module_version": "1.2.0",
     "model_name": "LayoutModel",
     "state": {
      "_model_module": "@jupyter-widgets/base",
      "_model_module_version": "1.2.0",
      "_model_name": "LayoutModel",
      "_view_count": null,
      "_view_module": "@jupyter-widgets/base",
      "_view_module_version": "1.2.0",
      "_view_name": "LayoutView",
      "align_content": null,
      "align_items": null,
      "align_self": null,
      "border": null,
      "bottom": null,
      "display": null,
      "flex": null,
      "flex_flow": null,
      "grid_area": null,
      "grid_auto_columns": null,
      "grid_auto_flow": null,
      "grid_auto_rows": null,
      "grid_column": null,
      "grid_gap": null,
      "grid_row": null,
      "grid_template_areas": null,
      "grid_template_columns": null,
      "grid_template_rows": null,
      "height": null,
      "justify_content": null,
      "justify_items": null,
      "left": null,
      "margin": null,
      "max_height": null,
      "max_width": null,
      "min_height": null,
      "min_width": null,
      "object_fit": null,
      "object_position": null,
      "order": null,
      "overflow": null,
      "overflow_x": null,
      "overflow_y": null,
      "padding": null,
      "right": null,
      "top": null,
      "visibility": null,
      "width": null
     }
    },
    "f33111d8ee384da5b2623a0c10381e71": {
     "model_module": "@jupyter-widgets/base",
     "model_module_version": "1.2.0",
     "model_name": "LayoutModel",
     "state": {
      "_model_module": "@jupyter-widgets/base",
      "_model_module_version": "1.2.0",
      "_model_name": "LayoutModel",
      "_view_count": null,
      "_view_module": "@jupyter-widgets/base",
      "_view_module_version": "1.2.0",
      "_view_name": "LayoutView",
      "align_content": null,
      "align_items": null,
      "align_self": null,
      "border": null,
      "bottom": null,
      "display": null,
      "flex": null,
      "flex_flow": null,
      "grid_area": null,
      "grid_auto_columns": null,
      "grid_auto_flow": null,
      "grid_auto_rows": null,
      "grid_column": null,
      "grid_gap": null,
      "grid_row": null,
      "grid_template_areas": null,
      "grid_template_columns": null,
      "grid_template_rows": null,
      "height": null,
      "justify_content": null,
      "justify_items": null,
      "left": null,
      "margin": null,
      "max_height": null,
      "max_width": null,
      "min_height": null,
      "min_width": null,
      "object_fit": null,
      "object_position": null,
      "order": null,
      "overflow": null,
      "overflow_x": null,
      "overflow_y": null,
      "padding": null,
      "right": null,
      "top": null,
      "visibility": null,
      "width": null
     }
    },
    "f54ea6fb819748e9a9b9ccb82959c09b": {
     "model_module": "@jupyter-widgets/controls",
     "model_module_version": "1.5.0",
     "model_name": "FloatProgressModel",
     "state": {
      "_dom_classes": [],
      "_model_module": "@jupyter-widgets/controls",
      "_model_module_version": "1.5.0",
      "_model_name": "FloatProgressModel",
      "_view_count": null,
      "_view_module": "@jupyter-widgets/controls",
      "_view_module_version": "1.5.0",
      "_view_name": "ProgressView",
      "bar_style": "success",
      "description": "",
      "description_tooltip": null,
      "layout": "IPY_MODEL_9b797752087746fda6047f6eb4f5354c",
      "max": 50000,
      "min": 0,
      "orientation": "horizontal",
      "style": "IPY_MODEL_6ef4b6589680422a9a698d2711029f38",
      "value": 50000
     }
    },
    "f90979b8be4a43779430e5cea7288727": {
     "model_module": "@jupyter-widgets/controls",
     "model_module_version": "1.5.0",
     "model_name": "HTMLModel",
     "state": {
      "_dom_classes": [],
      "_model_module": "@jupyter-widgets/controls",
      "_model_module_version": "1.5.0",
      "_model_name": "HTMLModel",
      "_view_count": null,
      "_view_module": "@jupyter-widgets/controls",
      "_view_module_version": "1.5.0",
      "_view_name": "HTMLView",
      "description": "",
      "description_tooltip": null,
      "layout": "IPY_MODEL_67a2a4a3150d45fcb43cdcb84b069037",
      "placeholder": "​",
      "style": "IPY_MODEL_ebe05613102d453391dcdf79c8b9627f",
      "value": "100%"
     }
    },
    "fa835651f57944bdb80fd9982c5c4a4c": {
     "model_module": "@jupyter-widgets/controls",
     "model_module_version": "1.5.0",
     "model_name": "HBoxModel",
     "state": {
      "_dom_classes": [],
      "_model_module": "@jupyter-widgets/controls",
      "_model_module_version": "1.5.0",
      "_model_name": "HBoxModel",
      "_view_count": null,
      "_view_module": "@jupyter-widgets/controls",
      "_view_module_version": "1.5.0",
      "_view_name": "HBoxView",
      "box_style": "",
      "children": [
       "IPY_MODEL_d3f9d930fecd4610b103b71fd55b37d5",
       "IPY_MODEL_22a7269308924bd68455bdf4eb234489",
       "IPY_MODEL_1e2c062a45f948b49aede5c9c9690ed0"
      ],
      "layout": "IPY_MODEL_5565f8975be347baad260928e03ed3d9"
     }
    },
    "ffe0336f9edc42ce8060a10ca1716e73": {
     "model_module": "@jupyter-widgets/controls",
     "model_module_version": "1.5.0",
     "model_name": "HBoxModel",
     "state": {
      "_dom_classes": [],
      "_model_module": "@jupyter-widgets/controls",
      "_model_module_version": "1.5.0",
      "_model_name": "HBoxModel",
      "_view_count": null,
      "_view_module": "@jupyter-widgets/controls",
      "_view_module_version": "1.5.0",
      "_view_name": "HBoxView",
      "box_style": "",
      "children": [
       "IPY_MODEL_9e92aabe14484229bd5955a0b97f22ba",
       "IPY_MODEL_f54ea6fb819748e9a9b9ccb82959c09b",
       "IPY_MODEL_7452ec72981041efa26df340beb722fb"
      ],
      "layout": "IPY_MODEL_bd883f2548a945149d0d5ad3dea7e2b0"
     }
    }
   }
  }
 },
 "nbformat": 4,
 "nbformat_minor": 1
}
